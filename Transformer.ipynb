{
  "nbformat": 4,
  "nbformat_minor": 0,
  "metadata": {
    "colab": {
      "provenance": []
    },
    "kernelspec": {
      "name": "python3",
      "display_name": "Python 3"
    },
    "language_info": {
      "name": "python"
    }
  },
  "cells": [
    {
      "cell_type": "markdown",
      "source": [
        "<center>\n",
        "\n",
        "###**Implementación Attention is All You Need.ipynb** <br><br>\n",
        "\n",
        "**Froilan Moya Robles**\n",
        "\n",
        "**Brian Morera Madriz**\n",
        "\n",
        "**Allan Murillo Gonzalez**\n",
        "\n",
        "**Esteban Esquivel Barboza**\n",
        "\n",
        "**Michael Pérez Ocampo**<br><br>\n",
        "\n",
        "**05 de Nomviembre del 2023**<br><br>\n",
        "\n",
        "**Instituto Tecnológico de Costa Rica**\n",
        "\n",
        "**Maestría en Ciencias de la Computación**\n",
        "\n",
        "</center>"
      ],
      "metadata": {
        "id": "uZ16xMVvBgT5"
      }
    },
    {
      "cell_type": "code",
      "execution_count": null,
      "metadata": {
        "id": "MjJcQxr7_06w"
      },
      "outputs": [],
      "source": []
    }
  ]
}