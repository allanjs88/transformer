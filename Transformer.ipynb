{
 "cells": [
  {
   "cell_type": "markdown",
   "id": "9a429510",
   "metadata": {
    "id": "SX7UC-8jTsp7",
    "lines_to_next_cell": 2,
    "tags": []
   },
   "source": [
    "\n",
    "<center><h1>Implementación Attention is All You Need.ipynb</h1> </center>\n",
    "\n",
    "\n",
    "<center>\n",
    "<p><a href=\"https://arxiv.org/abs/1706.03762\">Attention is All You Need\n",
    "</a></p>\n",
    "</center>\n",
    "\n",
    "<center>\n",
    "\n",
    "**Allan Murillo Gonzalez**\n",
    "\n",
    "**Brian Morera Madriz**\n",
    "\n",
    "**Esteban Esquivel Barboza**\n",
    "\n",
    "**Froilan Moya Robles**\n",
    "\n",
    "**Michael Pérez Ocampo**<br><br>\n",
    "\n",
    "**23 de Nomviembre del 2023**<br><br>\n",
    "\n",
    "**Instituto Tecnológico de Costa Rica**\n",
    "\n",
    "**Maestría en Ciencias de la Computación**\n",
    "\n",
    "</center>\n"
   ]
  },
  {
   "cell_type": "markdown",
   "id": "edd0e680",
   "metadata": {
    "id": "BhmOhn9lTsp8"
   },
   "source": [
    "# Preliminar"
   ]
  },
  {
   "cell_type": "code",
   "execution_count": 33,
   "id": "493ed0c2",
   "metadata": {
    "execution": {
     "iopub.execute_input": "2022-05-02T01:25:17.534797Z",
     "iopub.status.busy": "2022-05-02T01:25:17.533699Z",
     "iopub.status.idle": "2022-05-02T01:25:17.538114Z",
     "shell.execute_reply": "2022-05-02T01:25:17.537128Z"
    },
    "id": "NwClcbH6Tsp8"
   },
   "outputs": [],
   "source": [
    "# Instalación de paquetes\n",
    "# !pip install -r requirements.txt"
   ]
  },
  {
   "cell_type": "code",
   "execution_count": 38,
   "id": "84c7fa96",
   "metadata": {
    "execution": {
     "iopub.execute_input": "2022-05-02T01:25:17.544078Z",
     "iopub.status.busy": "2022-05-02T01:25:17.542981Z",
     "iopub.status.idle": "2022-05-02T01:25:17.545515Z",
     "shell.execute_reply": "2022-05-02T01:25:17.546285Z"
    },
    "id": "NwClcbH6Tsp8",
    "lines_to_next_cell": 2
   },
   "outputs": [],
   "source": [
    "####### Descomentar para Colab\n",
    "# !pip install -q torchdata==0.3.0 torchtext==0.12 spacy==3.2 altair GPUtil\n",
    "# !python -m spacy download de_core_news_sm\n",
    "# !python -m spacy download en_core_web_sm"
   ]
  },
  {
   "cell_type": "code",
   "execution_count": 39,
   "id": "1bf3deb7",
   "metadata": {
    "execution": {
     "iopub.execute_input": "2022-05-02T01:25:17.560273Z",
     "iopub.status.busy": "2022-05-02T01:25:17.559273Z",
     "iopub.status.idle": "2022-05-02T01:25:18.690005Z",
     "shell.execute_reply": "2022-05-02T01:25:18.690769Z"
    },
    "id": "v1-1MX6oTsp9",
    "lines_to_next_cell": 2
   },
   "outputs": [],
   "source": [
    "import os\n",
    "from os.path import exists\n",
    "import torch\n",
    "import torch.nn as nn\n",
    "from torch.nn.functional import log_softmax, pad\n",
    "import math\n",
    "import copy\n",
    "import time\n",
    "from torch.optim.lr_scheduler import LambdaLR\n",
    "import pandas as pd\n",
    "import altair as alt\n",
    "from torchtext.data.functional import to_map_style_dataset\n",
    "from torch.utils.data import DataLoader\n",
    "from torchtext.vocab import build_vocab_from_iterator\n",
    "import torchtext.datasets as datasets\n",
    "import spacy\n",
    "import GPUtil\n",
    "import warnings\n",
    "from torch.utils.data.distributed import DistributedSampler\n",
    "import torch.distributed as dist\n",
    "import torch.multiprocessing as mp\n",
    "from torch.nn.parallel import DistributedDataParallel as DDP\n",
    "\n",
    "# Establecer a False para omitir la ejecución del notebook (e.g. debugging)\n",
    "warnings.filterwarnings(\"ignore\")\n",
    "RUN_EXAMPLES = True"
   ]
  },
  {
   "cell_type": "code",
   "execution_count": 40,
   "id": "60359a1a",
   "metadata": {
    "execution": {
     "iopub.execute_input": "2022-05-02T01:25:18.702574Z",
     "iopub.status.busy": "2022-05-02T01:25:18.701680Z",
     "iopub.status.idle": "2022-05-02T01:25:18.704131Z",
     "shell.execute_reply": "2022-05-02T01:25:18.704839Z"
    }
   },
   "outputs": [],
   "source": [
    "def is_interactive_notebook():\n",
    "    return __name__ == \"__main__\"\n",
    "\n",
    "\n",
    "def show_example(fn, args=[]):\n",
    "    if __name__ == \"__main__\" and RUN_EXAMPLES:\n",
    "        return fn(*args)\n",
    "\n",
    "\n",
    "def execute_example(fn, args=[]):\n",
    "    if __name__ == \"__main__\" and RUN_EXAMPLES:\n",
    "        fn(*args)\n",
    "\n",
    "\n",
    "class DummyOptimizer(torch.optim.Optimizer):\n",
    "    def __init__(self):\n",
    "        self.param_groups = [{\"lr\": 0}]\n",
    "        None\n",
    "\n",
    "    def step(self):\n",
    "        None\n",
    "\n",
    "    def zero_grad(self, set_to_none=False):\n",
    "        None\n",
    "\n",
    "\n",
    "class DummyScheduler:\n",
    "    def step(self):\n",
    "        None"
   ]
  },
  {
   "cell_type": "markdown",
   "id": "b000ba74",
   "metadata": {
    "id": "7phVeWghTsp_"
   },
   "source": [
    "# Background"
   ]
  },
  {
   "cell_type": "markdown",
   "id": "98d74a9a",
   "metadata": {
    "id": "83ZDS91dTsqA"
   },
   "source": [
    "El actual proyecto tiene como objetivo proveer una implementación pedagógica de una versión simplificada del modelo `Transformer` del artículo `Attention Is All You Need`. En el mismo se encuentra definiciones y conceptos que ayudarán a comprender la implementación presentada."
   ]
  },
  {
   "cell_type": "markdown",
   "id": "af8b3f4b",
   "metadata": {},
   "source": [
    "# Parte 1: Arquitectura del modelo"
   ]
  },
  {
   "cell_type": "markdown",
   "id": "4ffe7928",
   "metadata": {
    "id": "pFrPajezTsqB"
   },
   "source": [
    "# Arquitectura del modelo"
   ]
  },
  {
   "cell_type": "markdown",
   "id": "c96103f9",
   "metadata": {
    "id": "ReuU_h-fTsqB"
   },
   "source": [
    "En el estado del arte actual, la mayoría de modelos de traducción utilizan una estructura de encoder-decoder. La idea de estos modelos es tomar una entrada con la forma $(x_1, ..., x_n)$ y traducirla a una representación intermedia $\\mathbf{z} = (z_1, ...,\n",
    "z_n)$ utilizando un encoder. Luego, dado $\\mathbf{z}$, el decoder genera una salida $(y_1,...,y_m)$.\n",
    "\n",
    "![EncoderDecoder](https://jalammar.github.io/images/t/The_transformer_encoders_decoders.png)\n",
    "\n",
    "Otro detalle es que el modelo es \"auto regresivo\", esto quiere decir que para generar un símbolo se utiliza el símbolo anterior como entrada adicional. Esto lo hacen utilizando varias capas de encoders y de decoders.\n",
    "\n",
    "![](https://jalammar.github.io/images/t/The_transformer_encoder_decoder_stack.png)\n",
    "\n"
   ]
  },
  {
   "cell_type": "code",
   "execution_count": 41,
   "id": "90e7e57e",
   "metadata": {
    "execution": {
     "iopub.execute_input": "2022-05-02T01:25:18.716980Z",
     "iopub.status.busy": "2022-05-02T01:25:18.716023Z",
     "iopub.status.idle": "2022-05-02T01:25:18.718971Z",
     "shell.execute_reply": "2022-05-02T01:25:18.718190Z"
    },
    "id": "k0XGXhzRTsqB"
   },
   "outputs": [],
   "source": [
    "class EncoderDecoder(nn.Module):\n",
    "    \"\"\"\n",
    "    Base de cualquier modelo Encoder - Decoder. \n",
    "    Recibe un modelo que sirve como encoder, un modelo decoder.\n",
    "    Además toma una función para generar embeddings.\n",
    "    También recibe una función que se va a utilizar para generar salidas\n",
    "    \"\"\"\n",
    "\n",
    "    def __init__(self, encoder, decoder, src_embed, tgt_embed, generator):\n",
    "        super(EncoderDecoder, self).__init__()\n",
    "        self.encoder = encoder\n",
    "        self.decoder = decoder\n",
    "        self.src_embed = src_embed\n",
    "        self.tgt_embed = tgt_embed\n",
    "        self.generator = generator\n",
    "\n",
    "    def forward(self, src, tgt, src_mask, tgt_mask):\n",
    "        \"\"\"Toma una entrada, una salida y las mascaras de ambos. Encodea la entrada y la utiliza como memoria (auto regresión).\"\"\"\n",
    "        return self.decode(self.encode(src, src_mask), src_mask, tgt, tgt_mask)\n",
    "\n",
    "    def encode(self, src, src_mask):\n",
    "        return self.encoder(self.src_embed(src), src_mask)\n",
    "\n",
    "    def decode(self, memory, src_mask, tgt, tgt_mask):\n",
    "        return self.decoder(self.tgt_embed(tgt), memory, src_mask, tgt_mask)"
   ]
  },
  {
   "cell_type": "code",
   "execution_count": 42,
   "id": "85bfcee7",
   "metadata": {
    "execution": {
     "iopub.execute_input": "2022-05-02T01:25:18.725923Z",
     "iopub.status.busy": "2022-05-02T01:25:18.724967Z",
     "iopub.status.idle": "2022-05-02T01:25:18.727616Z",
     "shell.execute_reply": "2022-05-02T01:25:18.726912Z"
    },
    "id": "NKGoH2RsTsqC",
    "lines_to_next_cell": 2
   },
   "outputs": [],
   "source": [
    "class Generator(nn.Module):\n",
    "    \"Un generador muy básico que utiliza uan capa linear y una capa softmax.\"\n",
    "\n",
    "    def __init__(self, d_model, vocab):\n",
    "        super(Generator, self).__init__()\n",
    "        self.proj = nn.Linear(d_model, vocab)\n",
    "\n",
    "    def forward(self, x):\n",
    "        return log_softmax(self.proj(x), dim=-1)"
   ]
  },
  {
   "cell_type": "markdown",
   "id": "bd5d4af0",
   "metadata": {
    "id": "mOoEnF_jTsqC"
   },
   "source": [
    "Recuerde que el transformer utiliza esta arquitectura, apilando capas de self-attention (auto atención) y dot-product attention (atención producto punto)."
   ]
  },
  {
   "cell_type": "markdown",
   "id": "592fd662",
   "metadata": {
    "id": "oredWloYTsqC",
    "lines_to_next_cell": 2
   },
   "source": [
    "![](images/ModalNet-21.png)"
   ]
  },
  {
   "cell_type": "markdown",
   "id": "0ef04378",
   "metadata": {
    "id": "bh092NZBTsqD"
   },
   "source": [
    "## Pilas de Encoder and Decoder\n",
    "\n",
    "### Pilas del Encoder\n",
    "\n",
    "El encoder está compuesto por una pila de $N=6$ capas iguales."
   ]
  },
  {
   "cell_type": "code",
   "execution_count": 43,
   "id": "0367c79f",
   "metadata": {
    "execution": {
     "iopub.execute_input": "2022-05-02T01:25:18.733957Z",
     "iopub.status.busy": "2022-05-02T01:25:18.733114Z",
     "iopub.status.idle": "2022-05-02T01:25:18.735146Z",
     "shell.execute_reply": "2022-05-02T01:25:18.735851Z"
    },
    "id": "2gxTApUYTsqD"
   },
   "outputs": [],
   "source": [
    "def clones(module, N):\n",
    "    \"Clona un modulo N veces.\"\n",
    "    return nn.ModuleList([copy.deepcopy(module) for _ in range(N)])"
   ]
  },
  {
   "cell_type": "markdown",
   "metadata": {},
   "source": [
    "En el paper (sección 3.1) se utiliza una capa de normalización llamada \"layer normalization\" (normalización de capa).\n",
    "No hay que hondar mucho en esto, puesto que es una decisión que se puede cambiar por otro tipo de normalización."
   ]
  },
  {
   "cell_type": "code",
   "execution_count": 46,
   "metadata": {},
   "outputs": [],
   "source": [
    "class LayerNorm(nn.Module):\n",
    "    \"Se construye una capa de normalización de capa\"\n",
    "\n",
    "    def __init__(self, features, eps=1e-6):\n",
    "        super(LayerNorm, self).__init__()\n",
    "        self.a_2 = nn.Parameter(torch.ones(features))\n",
    "        self.b_2 = nn.Parameter(torch.zeros(features))\n",
    "        self.eps = eps\n",
    "\n",
    "    def forward(self, x):\n",
    "        mean = x.mean(-1, keepdim=True)\n",
    "        std = x.std(-1, keepdim=True)\n",
    "        return self.a_2 * (x - mean) / (std + self.eps) + self.b_2"
   ]
  },
  {
   "cell_type": "code",
   "execution_count": 47,
   "id": "1d643018",
   "metadata": {
    "execution": {
     "iopub.execute_input": "2022-05-02T01:25:18.744483Z",
     "iopub.status.busy": "2022-05-02T01:25:18.743617Z",
     "iopub.status.idle": "2022-05-02T01:25:18.745891Z",
     "shell.execute_reply": "2022-05-02T01:25:18.746578Z"
    },
    "id": "xqVTz9MkTsqD"
   },
   "outputs": [],
   "source": [
    "class Encoder(nn.Module):\n",
    "    \"Un encoder de N capas y una capa de normalización\"\n",
    "\n",
    "    def __init__(self, layer, N):\n",
    "        super(Encoder, self).__init__()\n",
    "        self.layers = clones(layer, N)\n",
    "        self.norm = LayerNorm(layer.size)\n",
    "\n",
    "    def forward(self, x, mask):\n",
    "        \"Se pasa cada entrada con su mascara por cada capa y luego se normaliza.\"\n",
    "        for layer in self.layers:\n",
    "            x = layer(x, mask)\n",
    "        return self.norm(x)"
   ]
  },
  {
   "cell_type": "markdown",
   "id": "c9c1edc4",
   "metadata": {
    "id": "nXSJ3QYmTsqE"
   },
   "source": [
    "\n",
    "El paper explica que cada salida de una capa de encoding es $\\mathrm{LayerNorm}(x +\n",
    "\\mathrm{Sublayer}(x))$, donde $\\mathrm{Sublayer}(x)$ es la función implementada por la sub capa como tal. Y como se indica en la sección 5 de regularización, se utiliza al técnica de de dropout entre cada capa. Esto nos sirve para mejorar la generalización del modelo.\n",
    "Esto se puede observar en la siguiente figura, en la parte izquierda marcada como \"The encoder\".\n",
    "![](https://miro.medium.com/v2/resize:fit:863/0*jKqypwGzmDv7KDUZ.png)"
   ]
  },
  {
   "cell_type": "code",
   "execution_count": 48,
   "id": "a7f34584",
   "metadata": {
    "execution": {
     "iopub.execute_input": "2022-05-02T01:25:18.767044Z",
     "iopub.status.busy": "2022-05-02T01:25:18.766174Z",
     "iopub.status.idle": "2022-05-02T01:25:18.768689Z",
     "shell.execute_reply": "2022-05-02T01:25:18.769383Z"
    },
    "id": "U1P7zI0eTsqE"
   },
   "outputs": [],
   "source": [
    "class SublayerConnection(nn.Module):\n",
    "    \"\"\"\n",
    "    Una conección residual seguida de una capa de normalización\n",
    "    \"\"\"\n",
    "\n",
    "    def __init__(self, size, dropout):\n",
    "        super(SublayerConnection, self).__init__()\n",
    "        self.norm = LayerNorm(size)\n",
    "        self.dropout = nn.Dropout(dropout)\n",
    "\n",
    "    def forward(self, x, sublayer):\n",
    "        \"Se aplica la conección residual para cualquier subcapa del mismo tamaño.\"\n",
    "        return x + self.dropout(sublayer(self.norm(x)))"
   ]
  },
  {
   "cell_type": "markdown",
   "id": "e1d6e20d",
   "metadata": {
    "id": "ML6oDlEqTsqE"
   },
   "source": [
    "Cada capa del encoder tiene dos sub capas: la primera es una capa de self-attention y la segunda es una capa totalmente conectada (fully connected o feed forward).\n",
    "\n",
    "![](https://jalammar.github.io/images/t/Transformer_encoder.png)"
   ]
  },
  {
   "cell_type": "code",
   "execution_count": 49,
   "id": "3db97336",
   "metadata": {
    "execution": {
     "iopub.execute_input": "2022-05-02T01:25:18.779893Z",
     "iopub.status.busy": "2022-05-02T01:25:18.778804Z",
     "iopub.status.idle": "2022-05-02T01:25:18.780994Z",
     "shell.execute_reply": "2022-05-02T01:25:18.781710Z"
    },
    "id": "qYkUFr6GTsqE"
   },
   "outputs": [],
   "source": [
    "class EncoderLayer(nn.Module):\n",
    "    \"Encoder compuesto de un self-attention y un feed forward\"\n",
    "\n",
    "    def __init__(self, size, self_attn, feed_forward, dropout):\n",
    "        super(EncoderLayer, self).__init__()\n",
    "        self.self_attn = self_attn\n",
    "        self.feed_forward = feed_forward\n",
    "        self.sublayer = clones(SublayerConnection(size, dropout), 2)\n",
    "        self.size = size\n",
    "\n",
    "    def forward(self, x, mask):\n",
    "        \"Se toma una entrada y su mascara, se pasa por la capa de self attention y luego por el feed forward\"\n",
    "        x = self.sublayer[0](x, lambda x: self.self_attn(x, x, x, mask))\n",
    "        return self.sublayer[1](x, self.feed_forward)"
   ]
  },
  {
   "cell_type": "markdown",
   "id": "9c90d6ee",
   "metadata": {
    "id": "7ecOQIhkTsqF"
   },
   "source": [
    "### Decoder\n",
    "\n",
    "El decoder, al igual que el encoder, está compuesto por una pila de $N=6$ capas iguales.\n"
   ]
  },
  {
   "cell_type": "code",
   "execution_count": 50,
   "id": "4dbe403d",
   "metadata": {
    "execution": {
     "iopub.execute_input": "2022-05-02T01:25:18.790602Z",
     "iopub.status.busy": "2022-05-02T01:25:18.789754Z",
     "iopub.status.idle": "2022-05-02T01:25:18.791985Z",
     "shell.execute_reply": "2022-05-02T01:25:18.792756Z"
    }
   },
   "outputs": [],
   "source": [
    "class Decoder(nn.Module):\n",
    "    \"Decoder con N capas.\"\n",
    "\n",
    "    def __init__(self, layer, N):\n",
    "        super(Decoder, self).__init__()\n",
    "        self.layers = clones(layer, N)\n",
    "        self.norm = LayerNorm(layer.size)\n",
    "\n",
    "    def forward(self, x, memory, src_mask, tgt_mask):\n",
    "        for layer in self.layers:\n",
    "            x = layer(x, memory, src_mask, tgt_mask)\n",
    "        return self.norm(x)"
   ]
  },
  {
   "cell_type": "markdown",
   "id": "c202cebd",
   "metadata": {
    "id": "dXlCB12pTsqF"
   },
   "source": [
    "El decoder, además de las dos subcapas que utiliza el encoder utiliza una tercera, la cual utiliza el multi-head attention junto a la salida de la pila de encoders. \n",
    "\n",
    "Por lo tanto serían tres capas:\n",
    "- Capa de self attention con la salida esperada (utilizando mascaras).\n",
    "- Capa de attention del decoder junto a la salida del decoder.\n",
    "- Capa fully connected.\n",
    "\n",
    "Igual que el enconder, se utilizan las conecciones residuales y la normalización de capa."
   ]
  },
  {
   "cell_type": "code",
   "execution_count": 51,
   "id": "3b1df6b1",
   "metadata": {
    "execution": {
     "iopub.execute_input": "2022-05-02T01:25:18.803099Z",
     "iopub.status.busy": "2022-05-02T01:25:18.796132Z",
     "iopub.status.idle": "2022-05-02T01:25:18.806479Z",
     "shell.execute_reply": "2022-05-02T01:25:18.805667Z"
    },
    "id": "M2hA1xFQTsqF"
   },
   "outputs": [],
   "source": [
    "class DecoderLayer(nn.Module):\n",
    "    \"Decoder compuesto por el self attention, la atención con el encoder y el feed forward\"\n",
    "\n",
    "    def __init__(self, size, self_attn, src_attn, feed_forward, dropout):\n",
    "        super(DecoderLayer, self).__init__()\n",
    "        self.size = size\n",
    "        self.self_attn = self_attn\n",
    "        self.src_attn = src_attn\n",
    "        self.feed_forward = feed_forward\n",
    "        self.sublayer = clones(SublayerConnection(size, dropout), 3)\n",
    "\n",
    "    def forward(self, x, memory, src_mask, tgt_mask):\n",
    "        m = memory\n",
    "        x = self.sublayer[0](x, lambda x: self.self_attn(x, x, x, tgt_mask))\n",
    "        x = self.sublayer[1](x, lambda x: self.src_attn(x, m, m, src_mask))\n",
    "        return self.sublayer[2](x, self.feed_forward)"
   ]
  },
  {
   "cell_type": "markdown",
   "id": "a6852ba5",
   "metadata": {
    "id": "FZz5rLl4TsqF"
   },
   "source": [
    "Como se explicó anterior, ocupamos modificar el self-attetion para enmascarar posiciones para evitar atención con posiciones subsecuentes, en otras palabras, que el token actual no tenga atención con un token \"del futuro\". Por lo tanto las predicciones para una posición $i$ solo puede depender de posiciones anteriores (menores que $i$)."
   ]
  },
  {
   "cell_type": "code",
   "execution_count": 52,
   "id": "1fe1b467",
   "metadata": {
    "execution": {
     "iopub.execute_input": "2022-05-02T01:25:18.813309Z",
     "iopub.status.busy": "2022-05-02T01:25:18.812387Z",
     "iopub.status.idle": "2022-05-02T01:25:18.815171Z",
     "shell.execute_reply": "2022-05-02T01:25:18.814519Z"
    },
    "id": "QN98O2l3TsqF"
   },
   "outputs": [],
   "source": [
    "def subsequent_mask(size):\n",
    "    \"Enmascara posiciones subsecuentes.\"\n",
    "    attn_shape = (1, size, size)\n",
    "    subsequent_mask = torch.triu(torch.ones(attn_shape), diagonal=1).type(\n",
    "        torch.uint8\n",
    "    )\n",
    "    return subsequent_mask == 0"
   ]
  },
  {
   "attachments": {
    "image-2.png": {
     "image/png": "[encoded data removed]"
    },
    "image.png": {
     "image/png": "[encoded data removed]"
    }
   },
   "cell_type": "markdown",
   "id": "4946c508",
   "metadata": {
    "id": "Qto_yg7BTsqG",
    "lines_to_next_cell": 2
   },
   "source": [
    "## Self-Attention\n",
    "\n",
    "Cuando se lee e interpreta un texto, una misma palabra puede comprenderse de distintas maneras, donde cada una de estas depende del contexto o conjunto de otras palabras que se encuentran alrededor de esta. Dado el siguiente texto de ejemplo, surge la pregunta de cómo debe interpretarse la palabra `it`, remitiéndonos a la gramática, la palabra `it` puede referirse a cualquier objeto, sin embargo en el contexto de la frase debe relacionarse al animal que no cruzó la calle.\n",
    "\n",
    "`\"The animal didn't cross the street because it was too tired\"`\n",
    "\n",
    "Self-attention es el método que utiliza el Transformer para relacionar la importancia de la palabra que está siendo procesada, con respecto a las otras palabras que son parte de la oración. En el actual ejemplo, la siguiente imagen mustra la relación de la palabra `it` para con las otras y su grado de relevancia (intensidad de color); así, se puede determinar que `it` tiene una gran relación con ella misma y con la palabra `animal`:\n",
    "\n",
    "![image.png](attachment:image.png)\n",
    "\n",
    "La atención puede comprenderse como un mapeo entre tres (3) vectores, estos vectores son `query`, `key` (ambos de tamaño $d_k$) y `value` (de tamaño $d_v$).  Así, la salida se calcula como una suma ponderada de los valores, donde el peso asignado a cada valor (`value`) se calcula mediante una función de compatibilidad entre la consulta (`query`) y la clave (`key`) correspondiente. El artículo <a href=\"https://arxiv.org/abs/1706.03762\">Attention is All You Need</a> llama `Scaled Dot-Product Attention` a las siguientes operaciones con los vectores mencionados, tal como se muestra en la figura:\n",
    "\n",
    "![image-2.png](attachment:image-2.png)\n",
    "\n",
    "Sin embargo, las implementaciones se realizan de manera matricial, de tal manera que los vectores de `query` se empaquetan en una matriz llamada $Q$, los vectores de `key` en la matriz $K$ y los vectores de `value` en la matriz $V$; En el primer paso, se calcula la similitud entre $Q$ y $K$ multiplicando las matrices; en el segundo paso, se escala la salida dividiéndola por la raíz cuadrada de $d_k$. En el tercer paso, se puede aplicar una máscara (opcionalmente); luego, se normalizan las similitudes mediante la función softmax para obtener la matriz de atención $A$, tal como se muestra en la siguiente fórmula:\n",
    "\n",
    "$$\n",
    "\\mathrm{Attention}(Q, K, V) = \\mathrm{softmax}(\\frac{QK^T}{\\sqrt{d_k}})V\n",
    "$$\n",
    "Finalmente, se realiza otra multiplicación de matrices entre $A$ y $V$.\n",
    "\n",
    "\n"
   ]
  },
  {
   "cell_type": "code",
   "execution_count": 53,
   "id": "6c92d7c5",
   "metadata": {
    "execution": {
     "iopub.execute_input": "2022-05-02T01:25:19.251181Z",
     "iopub.status.busy": "2022-05-02T01:25:19.250905Z",
     "iopub.status.idle": "2022-05-02T01:25:19.253190Z",
     "shell.execute_reply": "2022-05-02T01:25:19.253437Z"
    },
    "id": "qsoVxS5yTsqG",
    "lines_to_next_cell": 2
   },
   "outputs": [],
   "source": [
    "def attention(query, key, value, mask=None, dropout=None):\n",
    "    \"Calcula 'Scaled Dot Product Attention' de manera matricial\"\n",
    "    d_k = query.size(-1)\n",
    "    #1. Calcular los puntajes de atención del producto punto.\n",
    "    #2. Escalar la salida dividiendo por la raíz cuadrada de d_k.\n",
    "    scores = torch.matmul(query, key.transpose(-2, -1)) / math.sqrt(d_k)\n",
    "    # 3 se enmascara (opcional)\n",
    "    if mask is not None:\n",
    "        scores = scores.masked_fill(mask == 0, -1e9)    \n",
    "    # 3 Aplicar softmax para obtener los pesos de atención\n",
    "    p_attn = scores.softmax(dim=-1)\n",
    "    if dropout is not None:\n",
    "        p_attn = dropout(p_attn)\n",
    "    # 5 Calcular la suma ponderada utilizando los pesos de atención\n",
    "    return torch.matmul(p_attn, value), p_attn"
   ]
  },
  {
   "attachments": {
    "image.png": {
     "image/png": "[encoded data removed]"
    }
   },
   "cell_type": "markdown",
   "id": "795454ef",
   "metadata": {
    "id": "TNtVyZ-pTsqH"
   },
   "source": [
    "\n",
    "`Multi-head attention` es el mecanismo que permite el modelo procese de manera conjunta o en paralelo información de diferentes subespacios de representación en diferentes posiciones, debido a esto el modelo puede centrarse en diferentes posiciones. Su definición es la siguiente:\n",
    "\n",
    "$$\n",
    "\\mathrm{MultiHead}(Q, K, V) =\n",
    "    \\mathrm{Concat}(\\mathrm{head_1}, ..., \\mathrm{head_h})W^O \\\\\n",
    "    \\text{where}~\\mathrm{head_i} = \\mathrm{Attention}(QW^Q_i, KW^K_i, VW^V_i)\n",
    "$$\n",
    "\n",
    "Donde las proyecciones son matrices de parámetros $W^Q_i \\in\n",
    "\\mathbb{R}^{d_{\\text{model}} \\times d_k}$, $W^K_i \\in\n",
    "\\mathbb{R}^{d_{\\text{model}} \\times d_k}$, $W^V_i \\in\n",
    "\\mathbb{R}^{d_{\\text{model}} \\times d_v}$ and $W^O \\in\n",
    "\\mathbb{R}^{hd_v \\times d_{\\text{model}}}$.\n",
    "\n",
    "La actual implementación emplea $h=8$ capas de atención paralelas o `heads`. Para cada una de estas se utiliza $d_k=d_v=d_{\\text{model}}/h=64$. \n",
    "Debido a la reducción de la dimensión de cada cabeza, el costo computacional total es similar al de la atención de una sola cabeza con plena dimensionalidad.\n",
    "\n",
    "![image.png](attachment:image.png)"
   ]
  },
  {
   "cell_type": "code",
   "execution_count": 54,
   "id": "e7901bdc",
   "metadata": {
    "execution": {
     "iopub.execute_input": "2022-05-02T01:25:19.265961Z",
     "iopub.status.busy": "2022-05-02T01:25:19.265360Z",
     "iopub.status.idle": "2022-05-02T01:25:19.267873Z",
     "shell.execute_reply": "2022-05-02T01:25:19.267306Z"
    },
    "id": "D2LBMKCQTsqH"
   },
   "outputs": [],
   "source": [
    "class MultiHeadedAttention(nn.Module):\n",
    "    def __init__(self, h, d_model, dropout=0.1):\n",
    "        \"Inicializa el tamaño del modelo y números de heads\"\n",
    "        super(MultiHeadedAttention, self).__init__()\n",
    "        assert d_model % h == 0\n",
    "        # Siempre se asume d_v = d_k\n",
    "        self.d_k = d_model // h\n",
    "        self.h = h\n",
    "        self.linears = clones(nn.Linear(d_model, d_model), 4)\n",
    "        self.attn = None\n",
    "        self.dropout = nn.Dropout(p=dropout)\n",
    "\n",
    "    def forward(self, query, key, value, mask=None):\n",
    "        if mask is not None:\n",
    "            # Se aplica la misma máscara para todos los heads\n",
    "            mask = mask.unsqueeze(1)\n",
    "        nbatches = query.size(0)\n",
    "\n",
    "        # 1) Realiza todas las proyecciones lineales en lote desde d_model => h x d_k.\n",
    "        query, key, value = [\n",
    "            lin(x).view(nbatches, -1, self.h, self.d_k).transpose(1, 2)\n",
    "            for lin, x in zip(self.linears, (query, key, value))\n",
    "        ]\n",
    "\n",
    "        # 2) Aplica atención a todos los vectores proyectados en lote.\n",
    "        x, self.attn = attention(\n",
    "            query, key, value, mask=mask, dropout=self.dropout\n",
    "        )\n",
    "\n",
    "        # 3) \"Hace un 'concat' utilizando una vista y aplica una lineal final.\"\n",
    "        x = (\n",
    "            x.transpose(1, 2)\n",
    "            .contiguous()\n",
    "            .view(nbatches, -1, self.h * self.d_k)\n",
    "        )\n",
    "        del query\n",
    "        del key\n",
    "        del value\n",
    "        return self.linears[-1](x)"
   ]
  },
  {
   "cell_type": "markdown",
   "id": "8299eb68",
   "metadata": {
    "id": "M-en97_GTsqH"
   },
   "source": [
    "## Position-wise Feed-Forward Networks\n",
    "\n",
    "Además de las subcapas de atención, cada capa en ell codificador y decodificador contiene una red de retroalimentación totalmente conectada, que se aplica a cada posición de manera separada e idéntica. Esto consiste en dos transformaciones lineales con una activación `ReLU`` en medio.\n",
    "\n",
    "$$\\mathrm{FFN}(x)=\\max(0, xW_1 + b_1) W_2 + b_2$$\n",
    "\n",
    "Aunque las transformaciones lineales son las mismas para cada capa, estas utilizan parámetros diferentes entre capas. Otra forma de describir esto es como dos convoluciones con tamaño de núcleo 1. La dimensionalidad de la entrada y la salida es $d_{\\text{model}}=512$, y la capa interna tiene una dimensionalidad de $d_{ff}=2048$."
   ]
  },
  {
   "cell_type": "code",
   "execution_count": 55,
   "id": "cf547802",
   "metadata": {
    "execution": {
     "iopub.execute_input": "2022-05-02T01:25:19.274902Z",
     "iopub.status.busy": "2022-05-02T01:25:19.274161Z",
     "iopub.status.idle": "2022-05-02T01:25:19.277708Z",
     "shell.execute_reply": "2022-05-02T01:25:19.278473Z"
    },
    "id": "6HHCemCxTsqH"
   },
   "outputs": [],
   "source": [
    "class PositionwiseFeedForward(nn.Module):\n",
    "    \"Implementa la ecuación FFN.\"\n",
    "\n",
    "    def __init__(self, d_model, d_ff, dropout=0.1):\n",
    "        super(PositionwiseFeedForward, self).__init__()\n",
    "        self.w_1 = nn.Linear(d_model, d_ff)\n",
    "        self.w_2 = nn.Linear(d_ff, d_model)\n",
    "        self.dropout = nn.Dropout(dropout)\n",
    "\n",
    "    def forward(self, x):\n",
    "        return self.w_2(self.dropout(self.w_1(x).relu()))"
   ]
  },
  {
   "cell_type": "markdown",
   "id": "9c1dcffc",
   "metadata": {
    "id": "dR1YM520TsqH"
   },
   "source": [
    "## Embeddings y Softmax\n",
    "\n",
    "Se utiliza `embeddings` para convertir los tokens de entrada y los tokens de salida en vectores de dimensión $d_{\\text{model}}$. También, se hace uso de la transformación lineal aprendida y la función `softmax` para convertir la salida del decodificador en probabilidades que se utilizarán en el siguiente token. En las capas de `embeddings` se multiplican los pesos por $\\sqrt{d_{\\text{model}}}$."
   ]
  },
  {
   "cell_type": "code",
   "execution_count": 56,
   "id": "f851b029",
   "metadata": {
    "execution": {
     "iopub.execute_input": "2022-05-02T01:25:19.286884Z",
     "iopub.status.busy": "2022-05-02T01:25:19.285947Z",
     "iopub.status.idle": "2022-05-02T01:25:19.288160Z",
     "shell.execute_reply": "2022-05-02T01:25:19.288878Z"
    },
    "id": "pyrChq9qTsqH"
   },
   "outputs": [],
   "source": [
    "class Embeddings(nn.Module):\n",
    "    def __init__(self, d_model, vocab):\n",
    "        super(Embeddings, self).__init__()\n",
    "        self.lut = nn.Embedding(vocab, d_model)\n",
    "        self.d_model = d_model\n",
    "\n",
    "    def forward(self, x):\n",
    "        return self.lut(x) * math.sqrt(self.d_model)"
   ]
  },
  {
   "cell_type": "markdown",
   "id": "a6005590",
   "metadata": {
    "id": "vOkdui-cTsqH"
   },
   "source": [
    "## Positional Encoding\n",
    "\n",
    "Las codificaciones posicionales se utilizan en modelos de secuencia a secuencia, particularmente en arquitecturas de Transformer, para proporcionar información posicional al modelo. En los Transformers, no hay nociones inherentes del orden o la posición de los tokens dentro de una secuencia, por lo que se añaden codificaciones posicionales a las incrustaciones de entrada para brindar al modelo información sobre las posiciones de los tokens en la secuencia.\n",
    "\n",
    "Existen diferentes maneras de implementar codificaciones posicionales, pero un método común introducido en el modelo Transformer es el uso de funciones seno y coseno de diferentes frecuencias a lo largo de las posiciones. Estas codificaciones posicionales se suman a las incrustaciones de entrada de los tokens\n",
    "\n",
    "En este trabajo, utilizamos funciones seno y coseno de diferentes frecuencias:\n",
    "\n",
    "$$PE_{(pos,2i)} = \\sin(pos / 10000^{2i/d_{\\text{model}}})$$\n",
    "\n",
    "$$PE_{(pos,2i+1)} = \\cos(pos / 10000^{2i/d_{\\text{model}}})$$\n",
    "\n",
    "Donde $pos$ es la posición e $i$ es la dimensión. Es decir, cada dimensión de la codificación posicional corresponde a un sinusoid. Las longitudes de onda forman una progresión geométrica desde $2\\pi$ hasta $10000 \\cdot 2\\pi$. Elegimos esta función porque hipotetizamos que permitiría al modelo aprender fácilmente a atender a posiciones relativas, ya que para cualquier desplazamiento fijo $k$, $PE_{pos+k}$ puede representarse como una función lineal de $PE_{pos}\n",
    "\n",
    "Además, aplicamos dropout a las sumas de las incrustaciones y las codificaciones posicionales tanto en las pilas del codificador como del decodificador. Para el modelo base, utilizamos una tasa de $P_{drop}=0.1$\n",
    "\n"
   ]
  },
  {
   "cell_type": "code",
   "execution_count": 57,
   "id": "dfacc553",
   "metadata": {
    "execution": {
     "iopub.execute_input": "2022-05-02T01:25:19.300508Z",
     "iopub.status.busy": "2022-05-02T01:25:19.299554Z",
     "iopub.status.idle": "2022-05-02T01:25:19.301927Z",
     "shell.execute_reply": "2022-05-02T01:25:19.302701Z"
    },
    "id": "zaHGD4yJTsqH"
   },
   "outputs": [],
   "source": [
    "class PositionalEncoding(nn.Module):\n",
    "    \"Implement the PE function.\"\n",
    "\n",
    "    def __init__(self, d_model, dropout, max_len=5000):\n",
    "        super(PositionalEncoding, self).__init__()\n",
    "        self.dropout = nn.Dropout(p=dropout)\n",
    "\n",
    "        # Compute the positional encodings once in log space.\n",
    "        pe = torch.zeros(max_len, d_model)\n",
    "        position = torch.arange(0, max_len).unsqueeze(1)\n",
    "        div_term = torch.exp(\n",
    "            torch.arange(0, d_model, 2) * -(math.log(10000.0) / d_model)\n",
    "        )\n",
    "        pe[:, 0::2] = torch.sin(position * div_term)\n",
    "        pe[:, 1::2] = torch.cos(position * div_term)\n",
    "        pe = pe.unsqueeze(0)\n",
    "        self.register_buffer(\"pe\", pe)\n",
    "\n",
    "    def forward(self, x):\n",
    "        x = x + self.pe[:, : x.size(1)].requires_grad_(False)\n",
    "        return self.dropout(x)"
   ]
  },
  {
   "cell_type": "markdown",
   "id": "04de678b",
   "metadata": {
    "id": "EfHacTJLTsqH"
   },
   "source": [
    "\n",
    "> Below the positional encoding will add in a sine wave based on\n",
    "> position. The frequency and offset of the wave is different for\n",
    "> each dimension."
   ]
  },
  {
   "cell_type": "code",
   "execution_count": 58,
   "id": "c37945f2",
   "metadata": {
    "execution": {
     "iopub.execute_input": "2022-05-02T01:25:19.312150Z",
     "iopub.status.busy": "2022-05-02T01:25:19.311259Z",
     "iopub.status.idle": "2022-05-02T01:25:19.626150Z",
     "shell.execute_reply": "2022-05-02T01:25:19.626854Z"
    },
    "id": "rnvHk_1QokC6",
    "type": "example"
   },
   "outputs": [
    {
     "data": {
      "text/html": [
       "\n",
       "<style>\n",
       "  #altair-viz-c71fbb9e6e204ee58739daf696ce3e0f.vega-embed {\n",
       "    width: 100%;\n",
       "    display: flex;\n",
       "  }\n",
       "\n",
       "  #altair-viz-c71fbb9e6e204ee58739daf696ce3e0f.vega-embed details,\n",
       "  #altair-viz-c71fbb9e6e204ee58739daf696ce3e0f.vega-embed details summary {\n",
       "    position: relative;\n",
       "  }\n",
       "</style>\n",
       "<div id=\"altair-viz-c71fbb9e6e204ee58739daf696ce3e0f\"></div>\n",
       "<script type=\"text/javascript\">\n",
       "  var VEGA_DEBUG = (typeof VEGA_DEBUG == \"undefined\") ? {} : VEGA_DEBUG;\n",
       "  (function(spec, embedOpt){\n",
       "    let outputDiv = document.currentScript.previousElementSibling;\n",
       "    if (outputDiv.id !== \"altair-viz-c71fbb9e6e204ee58739daf696ce3e0f\") {\n",
       "      outputDiv = document.getElementById(\"altair-viz-c71fbb9e6e204ee58739daf696ce3e0f\");\n",
       "    }\n",
       "    const paths = {\n",
       "      \"vega\": \"https://cdn.jsdelivr.net/npm/vega@5?noext\",\n",
       "      \"vega-lib\": \"https://cdn.jsdelivr.net/npm/vega-lib?noext\",\n",
       "      \"vega-lite\": \"https://cdn.jsdelivr.net/npm/vega-lite@5.15.1?noext\",\n",
       "      \"vega-embed\": \"https://cdn.jsdelivr.net/npm/vega-embed@6?noext\",\n",
       "    };\n",
       "\n",
       "    function maybeLoadScript(lib, version) {\n",
       "      var key = `${lib.replace(\"-\", \"\")}_version`;\n",
       "      return (VEGA_DEBUG[key] == version) ?\n",
       "        Promise.resolve(paths[lib]) :\n",
       "        new Promise(function(resolve, reject) {\n",
       "          var s = document.createElement('script');\n",
       "          document.getElementsByTagName(\"head\")[0].appendChild(s);\n",
       "          s.async = true;\n",
       "          s.onload = () => {\n",
       "            VEGA_DEBUG[key] = version;\n",
       "            return resolve(paths[lib]);\n",
       "          };\n",
       "          s.onerror = () => reject(`Error loading script: ${paths[lib]}`);\n",
       "          s.src = paths[lib];\n",
       "        });\n",
       "    }\n",
       "\n",
       "    function showError(err) {\n",
       "      outputDiv.innerHTML = `<div class=\"error\" style=\"color:red;\">${err}</div>`;\n",
       "      throw err;\n",
       "    }\n",
       "\n",
       "    function displayChart(vegaEmbed) {\n",
       "      vegaEmbed(outputDiv, spec, embedOpt)\n",
       "        .catch(err => showError(`Javascript Error: ${err.message}<br>This usually means there's a typo in your chart specification. See the javascript console for the full traceback.`));\n",
       "    }\n",
       "\n",
       "    if(typeof define === \"function\" && define.amd) {\n",
       "      requirejs.config({paths});\n",
       "      require([\"vega-embed\"], displayChart, err => showError(`Error loading script: ${err.message}`));\n",
       "    } else {\n",
       "      maybeLoadScript(\"vega\", \"5\")\n",
       "        .then(() => maybeLoadScript(\"vega-lite\", \"5.15.1\"))\n",
       "        .then(() => maybeLoadScript(\"vega-embed\", \"6\"))\n",
       "        .catch(showError)\n",
       "        .then(() => displayChart(vegaEmbed));\n",
       "    }\n",
       "  })({\"config\": {\"view\": {\"continuousWidth\": 300, \"continuousHeight\": 300}}, \"data\": {\"name\": \"data-83b12cb863a75a1b9243940a6a42e0d8\"}, \"mark\": {\"type\": \"line\"}, \"encoding\": {\"color\": {\"field\": \"dimension\", \"type\": \"nominal\"}, \"x\": {\"field\": \"position\", \"type\": \"quantitative\"}, \"y\": {\"field\": \"embedding\", \"type\": \"quantitative\"}}, \"params\": [{\"name\": \"param_1\", \"select\": {\"type\": \"interval\", \"encodings\": [\"x\", \"y\"]}, \"bind\": \"scales\"}], \"width\": 800, \"$schema\": \"https://vega.github.io/schema/vega-lite/v5.15.1.json\", \"datasets\": {\"data-83b12cb863a75a1b9243940a6a42e0d8\": [{\"embedding\": 0.0, \"dimension\": 4, \"position\": 0}, {\"embedding\": 0.15782663226127625, \"dimension\": 4, \"position\": 1}, {\"embedding\": 0.3116971552371979, \"dimension\": 4, \"position\": 2}, {\"embedding\": 0.45775455236434937, \"dimension\": 4, \"position\": 3}, {\"embedding\": 0.5923377275466919, \"dimension\": 4, \"position\": 4}, {\"embedding\": 0.7120732069015503, \"dimension\": 4, \"position\": 5}, {\"embedding\": 0.813959538936615, \"dimension\": 4, \"position\": 6}, {\"embedding\": 0.8954429626464844, \"dimension\": 4, \"position\": 7}, {\"embedding\": 0.9544808864593506, \"dimension\": 4, \"position\": 8}, {\"embedding\": 0.989593505859375, \"dimension\": 4, \"position\": 9}, {\"embedding\": 0.9999006390571594, \"dimension\": 4, \"position\": 10}, {\"embedding\": 0.9851439595222473, \"dimension\": 4, \"position\": 11}, {\"embedding\": 0.94569331407547, \"dimension\": 4, \"position\": 12}, {\"embedding\": 0.8825376033782959, \"dimension\": 4, \"position\": 13}, {\"embedding\": 0.7972599267959595, \"dimension\": 4, \"position\": 14}, {\"embedding\": 0.691997766494751, \"dimension\": 4, \"position\": 15}, {\"embedding\": 0.5693899393081665, \"dimension\": 4, \"position\": 16}, {\"embedding\": 0.4325096309185028, \"dimension\": 4, \"position\": 17}, {\"embedding\": 0.284787654876709, \"dimension\": 4, \"position\": 18}, {\"embedding\": 0.12992730736732483, \"dimension\": 4, \"position\": 19}, {\"embedding\": -0.028190065175294876, \"dimension\": 4, \"position\": 20}, {\"embedding\": -0.18560057878494263, \"dimension\": 4, \"position\": 21}, {\"embedding\": -0.3383587896823883, \"dimension\": 4, \"position\": 22}, {\"embedding\": -0.4826357960700989, \"dimension\": 4, \"position\": 23}, {\"embedding\": -0.6148146390914917, \"dimension\": 4, \"position\": 24}, {\"embedding\": -0.7315824031829834, \"dimension\": 4, \"position\": 25}, {\"embedding\": -0.8300122618675232, \"dimension\": 4, \"position\": 26}, {\"embedding\": -0.9076365828514099, \"dimension\": 4, \"position\": 27}, {\"embedding\": -0.96250981092453, \"dimension\": 4, \"position\": 28}, {\"embedding\": -0.9932565093040466, \"dimension\": 4, \"position\": 29}, {\"embedding\": -0.9991058707237244, \"dimension\": 4, \"position\": 30}, {\"embedding\": -0.9799113273620605, \"dimension\": 4, \"position\": 31}, {\"embedding\": -0.9361540079116821, \"dimension\": 4, \"position\": 32}, {\"embedding\": -0.8689308166503906, \"dimension\": 4, \"position\": 33}, {\"embedding\": -0.7799267172813416, \"dimension\": 4, \"position\": 34}, {\"embedding\": -0.6713724136352539, \"dimension\": 4, \"position\": 35}, {\"embedding\": -0.5459895133972168, \"dimension\": 4, \"position\": 36}, {\"embedding\": -0.40692076086997986, \"dimension\": 4, \"position\": 37}, {\"embedding\": -0.2576519548892975, \"dimension\": 4, \"position\": 38}, {\"embedding\": -0.10192479938268661, \"dimension\": 4, \"position\": 39}, {\"embedding\": 0.056357722729444504, \"dimension\": 4, \"position\": 40}, {\"embedding\": 0.21322709321975708, \"dimension\": 4, \"position\": 41}, {\"embedding\": 0.3647516369819641, \"dimension\": 4, \"position\": 42}, {\"embedding\": 0.5071332454681396, \"dimension\": 4, \"position\": 43}, {\"embedding\": 0.6368028521537781, \"dimension\": 4, \"position\": 44}, {\"embedding\": 0.7505102157592773, \"dimension\": 4, \"position\": 45}, {\"embedding\": 0.8454052805900574, \"dimension\": 4, \"position\": 46}, {\"embedding\": 0.9191088080406189, \"dimension\": 4, \"position\": 47}, {\"embedding\": 0.9697737693786621, \"dimension\": 4, \"position\": 48}, {\"embedding\": 0.9961300492286682, \"dimension\": 4, \"position\": 49}, {\"embedding\": 0.9975170493125916, \"dimension\": 4, \"position\": 50}, {\"embedding\": 0.9738998413085938, \"dimension\": 4, \"position\": 51}, {\"embedding\": 0.9258705973625183, \"dimension\": 4, \"position\": 52}, {\"embedding\": 0.8546332716941833, \"dimension\": 4, \"position\": 53}, {\"embedding\": 0.7619734406471252, \"dimension\": 4, \"position\": 54}, {\"embedding\": 0.6502137184143066, \"dimension\": 4, \"position\": 55}, {\"embedding\": 0.5221555829048157, \"dimension\": 4, \"position\": 56}, {\"embedding\": 0.38100889325141907, \"dimension\": 4, \"position\": 57}, {\"embedding\": 0.23031172156333923, \"dimension\": 4, \"position\": 58}, {\"embedding\": 0.07384055852890015, \"dimension\": 4, \"position\": 59}, {\"embedding\": -0.08448058366775513, \"dimension\": 4, \"position\": 60}, {\"embedding\": -0.2406841218471527, \"dimension\": 4, \"position\": 61}, {\"embedding\": -0.3908545970916748, \"dimension\": 4, \"position\": 62}, {\"embedding\": -0.5312277674674988, \"dimension\": 4, \"position\": 63}, {\"embedding\": -0.6582850813865662, \"dimension\": 4, \"position\": 64}, {\"embedding\": -0.768841564655304, \"dimension\": 4, \"position\": 65}, {\"embedding\": -0.8601260185241699, \"dimension\": 4, \"position\": 66}, {\"embedding\": -0.9298503398895264, \"dimension\": 4, \"position\": 67}, {\"embedding\": -0.9762668013572693, \"dimension\": 4, \"position\": 68}, {\"embedding\": -0.9982118010520935, \"dimension\": 4, \"position\": 69}, {\"embedding\": -0.9951352477073669, \"dimension\": 4, \"position\": 70}, {\"embedding\": -0.967114269733429, \"dimension\": 4, \"position\": 71}, {\"embedding\": -0.9148513078689575, \"dimension\": 4, \"position\": 72}, {\"embedding\": -0.839656412601471, \"dimension\": 4, \"position\": 73}, {\"embedding\": -0.7434144616127014, \"dimension\": 4, \"position\": 74}, {\"embedding\": -0.6285378932952881, \"dimension\": 4, \"position\": 75}, {\"embedding\": -0.4979061484336853, \"dimension\": 4, \"position\": 76}, {\"embedding\": -0.3547937273979187, \"dimension\": 4, \"position\": 77}, {\"embedding\": -0.20278796553611755, \"dimension\": 4, \"position\": 78}, {\"embedding\": -0.04569905996322632, \"dimension\": 4, \"position\": 79}, {\"embedding\": 0.11253630369901657, \"dimension\": 4, \"position\": 80}, {\"embedding\": 0.2679498493671417, \"dimension\": 4, \"position\": 81}, {\"embedding\": 0.4166468679904938, \"dimension\": 4, \"position\": 82}, {\"embedding\": 0.5549001097679138, \"dimension\": 4, \"position\": 83}, {\"embedding\": 0.6792440414428711, \"dimension\": 4, \"position\": 84}, {\"embedding\": 0.7865618467330933, \"dimension\": 4, \"position\": 85}, {\"embedding\": 0.8741634488105774, \"dimension\": 4, \"position\": 86}, {\"embedding\": 0.9398530125617981, \"dimension\": 4, \"position\": 87}, {\"embedding\": 0.9819839596748352, \"dimension\": 4, \"position\": 88}, {\"embedding\": 0.9995002150535583, \"dimension\": 4, \"position\": 89}, {\"embedding\": 0.9919626712799072, \"dimension\": 4, \"position\": 90}, {\"embedding\": 0.959559977054596, \"dimension\": 4, \"position\": 91}, {\"embedding\": 0.903104841709137, \"dimension\": 4, \"position\": 92}, {\"embedding\": 0.8240122199058533, \"dimension\": 4, \"position\": 93}, {\"embedding\": 0.7242646217346191, \"dimension\": 4, \"position\": 94}, {\"embedding\": 0.6063624620437622, \"dimension\": 4, \"position\": 95}, {\"embedding\": 0.4732609689235687, \"dimension\": 4, \"position\": 96}, {\"embedding\": 0.32829657196998596, \"dimension\": 4, \"position\": 97}, {\"embedding\": 0.17510302364826202, \"dimension\": 4, \"position\": 98}, {\"embedding\": 0.01752028614282608, \"dimension\": 4, \"position\": 99}, {\"embedding\": 1.0, \"dimension\": 5, \"position\": 0}, {\"embedding\": 0.9874668121337891, \"dimension\": 5, \"position\": 1}, {\"embedding\": 0.9501814842224121, \"dimension\": 5, \"position\": 2}, {\"embedding\": 0.8890786170959473, \"dimension\": 5, \"position\": 3}, {\"embedding\": 0.805689811706543, \"dimension\": 5, \"position\": 4}, {\"embedding\": 0.7021052837371826, \"dimension\": 5, \"position\": 5}, {\"embedding\": 0.5809215903282166, \"dimension\": 5, \"position\": 6}, {\"embedding\": 0.44517630338668823, \"dimension\": 5, \"position\": 7}, {\"embedding\": 0.298272043466568, \"dimension\": 5, \"position\": 8}, {\"embedding\": 0.14389123022556305, \"dimension\": 5, \"position\": 9}, {\"embedding\": -0.01409643329679966, \"dimension\": 5, \"position\": 10}, {\"embedding\": -0.1717306226491928, \"dimension\": 5, \"position\": 11}, {\"embedding\": -0.32506027817726135, \"dimension\": 5, \"position\": 12}, {\"embedding\": -0.47024187445640564, \"dimension\": 5, \"position\": 13}, {\"embedding\": -0.6036361455917358, \"dimension\": 5, \"position\": 14}, {\"embedding\": -0.7218995690345764, \"dimension\": 5, \"position\": 15}, {\"embedding\": -0.8220675587654114, \"dimension\": 5, \"position\": 16}, {\"embedding\": -0.9016293287277222, \"dimension\": 5, \"position\": 17}, {\"embedding\": -0.9585906267166138, \"dimension\": 5, \"position\": 18}, {\"embedding\": -0.9915235042572021, \"dimension\": 5, \"position\": 19}, {\"embedding\": -0.9996025562286377, \"dimension\": 5, \"position\": 20}, {\"embedding\": -0.9826252460479736, \"dimension\": 5, \"position\": 21}, {\"embedding\": -0.941017210483551, \"dimension\": 5, \"position\": 22}, {\"embedding\": -0.8758211731910706, \"dimension\": 5, \"position\": 23}, {\"embedding\": -0.788671612739563, \"dimension\": 5, \"position\": 24}, {\"embedding\": -0.6817529797554016, \"dimension\": 5, \"position\": 25}, {\"embedding\": -0.5577451586723328, \"dimension\": 5, \"position\": 26}, {\"embedding\": -0.4197568893432617, \"dimension\": 5, \"position\": 27}, {\"embedding\": -0.27124688029289246, \"dimension\": 5, \"position\": 28}, {\"embedding\": -0.11593768745660782, \"dimension\": 5, \"position\": 29}, {\"embedding\": 0.042278096079826355, \"dimension\": 5, \"position\": 30}, {\"embedding\": 0.19943365454673767, \"dimension\": 5, \"position\": 31}, {\"embedding\": 0.3515901565551758, \"dimension\": 5, \"position\": 32}, {\"embedding\": 0.4949335753917694, \"dimension\": 5, \"position\": 33}, {\"embedding\": 0.6258708834648132, \"dimension\": 5, \"position\": 34}, {\"embedding\": 0.7411201596260071, \"dimension\": 5, \"position\": 35}, {\"embedding\": 0.8377919793128967, \"dimension\": 5, \"position\": 36}, {\"embedding\": 0.9134634733200073, \"dimension\": 5, \"position\": 37}, {\"embedding\": 0.9662377834320068, \"dimension\": 5, \"position\": 38}, {\"embedding\": 0.994792103767395, \"dimension\": 5, \"position\": 39}, {\"embedding\": 0.9984106421470642, \"dimension\": 5, \"position\": 40}, {\"embedding\": 0.9770026803016663, \"dimension\": 5, \"position\": 41}, {\"embedding\": 0.931104838848114, \"dimension\": 5, \"position\": 42}, {\"embedding\": 0.8618676662445068, \"dimension\": 5, \"position\": 43}, {\"embedding\": 0.7710266709327698, \"dimension\": 5, \"position\": 44}, {\"embedding\": 0.6608588695526123, \"dimension\": 5, \"position\": 45}, {\"embedding\": 0.5341254472732544, \"dimension\": 5, \"position\": 46}, {\"embedding\": 0.3940037488937378, \"dimension\": 5, \"position\": 47}, {\"embedding\": 0.24400585889816284, \"dimension\": 5, \"position\": 48}, {\"embedding\": 0.08789165318012238, \"dimension\": 5, \"position\": 49}, {\"embedding\": -0.07042567431926727, \"dimension\": 5, \"position\": 50}, {\"embedding\": -0.2269781529903412, \"dimension\": 5, \"position\": 51}, {\"embedding\": -0.37784066796302795, \"dimension\": 5, \"position\": 52}, {\"embedding\": -0.5192320942878723, \"dimension\": 5, \"position\": 53}, {\"embedding\": -0.6476082801818848, \"dimension\": 5, \"position\": 54}, {\"embedding\": -0.7597513794898987, \"dimension\": 5, \"position\": 55}, {\"embedding\": -0.8528502583503723, \"dimension\": 5, \"position\": 56}, {\"embedding\": -0.9245713949203491, \"dimension\": 5, \"position\": 57}, {\"embedding\": -0.973116934299469, \"dimension\": 5, \"position\": 58}, {\"embedding\": -0.9972701072692871, \"dimension\": 5, \"position\": 59}, {\"embedding\": -0.9964251518249512, \"dimension\": 5, \"position\": 60}, {\"embedding\": -0.9706035256385803, \"dimension\": 5, \"position\": 61}, {\"embedding\": -0.9204524159431458, \"dimension\": 5, \"position\": 62}, {\"embedding\": -0.84722900390625, \"dimension\": 5, \"position\": 63}, {\"embedding\": -0.7527687549591064, \"dimension\": 5, \"position\": 64}, {\"embedding\": -0.6394393444061279, \"dimension\": 5, \"position\": 65}, {\"embedding\": -0.5100815296173096, \"dimension\": 5, \"position\": 66}, {\"embedding\": -0.3679378628730774, \"dimension\": 5, \"position\": 67}, {\"embedding\": -0.2165713608264923, \"dimension\": 5, \"position\": 68}, {\"embedding\": -0.05977622792124748, \"dimension\": 5, \"position\": 69}, {\"embedding\": 0.09851823002099991, \"dimension\": 5, \"position\": 70}, {\"embedding\": 0.254342257976532, \"dimension\": 5, \"position\": 71}, {\"embedding\": 0.4037908613681793, \"dimension\": 5, \"position\": 72}, {\"embedding\": 0.5431179404258728, \"dimension\": 5, \"position\": 73}, {\"embedding\": 0.6688309907913208, \"dimension\": 5, \"position\": 74}, {\"embedding\": 0.7777789831161499, \"dimension\": 5, \"position\": 75}, {\"embedding\": 0.8672308921813965, \"dimension\": 5, \"position\": 76}, {\"embedding\": 0.9349445700645447, \"dimension\": 5, \"position\": 77}, {\"embedding\": 0.9792227149009705, \"dimension\": 5, \"position\": 78}, {\"embedding\": 0.998955249786377, \"dimension\": 5, \"position\": 79}, {\"embedding\": 0.9936476349830627, \"dimension\": 5, \"position\": 80}, {\"embedding\": 0.9634328484535217, \"dimension\": 5, \"position\": 81}, {\"embedding\": 0.9090684056282043, \"dimension\": 5, \"position\": 82}, {\"embedding\": 0.8319169878959656, \"dimension\": 5, \"position\": 83}, {\"embedding\": 0.733912467956543, \"dimension\": 5, \"position\": 84}, {\"embedding\": 0.617511510848999, \"dimension\": 5, \"position\": 85}, {\"embedding\": 0.4856317937374115, \"dimension\": 5, \"position\": 86}, {\"embedding\": 0.3415791094303131, \"dimension\": 5, \"position\": 87}, {\"embedding\": 0.18896427750587463, \"dimension\": 5, \"position\": 88}, {\"embedding\": 0.0316128134727478, \"dimension\": 5, \"position\": 89}, {\"embedding\": -0.12653106451034546, \"dimension\": 5, \"position\": 90}, {\"embedding\": -0.28150418400764465, \"dimension\": 5, \"position\": 91}, {\"embedding\": -0.4294201135635376, \"dimension\": 5, \"position\": 92}, {\"embedding\": -0.5665720701217651, \"dimension\": 5, \"position\": 93}, {\"embedding\": -0.6895220875740051, \"dimension\": 5, \"position\": 94}, {\"embedding\": -0.7951884269714355, \"dimension\": 5, \"position\": 95}, {\"embedding\": -0.880922257900238, \"dimension\": 5, \"position\": 96}, {\"embedding\": -0.9445747137069702, \"dimension\": 5, \"position\": 97}, {\"embedding\": -0.9845501184463501, \"dimension\": 5, \"position\": 98}, {\"embedding\": -0.9998465180397034, \"dimension\": 5, \"position\": 99}, {\"embedding\": 0.0, \"dimension\": 6, \"position\": 0}, {\"embedding\": 0.06305388361215591, \"dimension\": 6, \"position\": 1}, {\"embedding\": 0.12585683166980743, \"dimension\": 6, \"position\": 2}, {\"embedding\": 0.18815888464450836, \"dimension\": 6, \"position\": 3}, {\"embedding\": 0.24971213936805725, \"dimension\": 6, \"position\": 4}, {\"embedding\": 0.31027159094810486, \"dimension\": 6, \"position\": 5}, {\"embedding\": 0.3695962131023407, \"dimension\": 6, \"position\": 6}, {\"embedding\": 0.4274499714374542, \"dimension\": 6, \"position\": 7}, {\"embedding\": 0.4836025834083557, \"dimension\": 6, \"position\": 8}, {\"embedding\": 0.5378305315971375, \"dimension\": 6, \"position\": 9}, {\"embedding\": 0.5899181365966797, \"dimension\": 6, \"position\": 10}, {\"embedding\": 0.6396579146385193, \"dimension\": 6, \"position\": 11}, {\"embedding\": 0.6868520379066467, \"dimension\": 6, \"position\": 12}, {\"embedding\": 0.7313126921653748, \"dimension\": 6, \"position\": 13}, {\"embedding\": 0.7728629112243652, \"dimension\": 6, \"position\": 14}, {\"embedding\": 0.8113372921943665, \"dimension\": 6, \"position\": 15}, {\"embedding\": 0.8465827703475952, \"dimension\": 6, \"position\": 16}, {\"embedding\": 0.8784590363502502, \"dimension\": 6, \"position\": 17}, {\"embedding\": 0.9068393111228943, \"dimension\": 6, \"position\": 18}, {\"embedding\": 0.9316105246543884, \"dimension\": 6, \"position\": 19}, {\"embedding\": 0.9526742100715637, \"dimension\": 6, \"position\": 20}, {\"embedding\": 0.9699464440345764, \"dimension\": 6, \"position\": 21}, {\"embedding\": 0.9833585619926453, \"dimension\": 6, \"position\": 22}, {\"embedding\": 0.9928570985794067, \"dimension\": 6, \"position\": 23}, {\"embedding\": 0.9984043836593628, \"dimension\": 6, \"position\": 24}, {\"embedding\": 0.999978244304657, \"dimension\": 6, \"position\": 25}, {\"embedding\": 0.9975724220275879, \"dimension\": 6, \"position\": 26}, {\"embedding\": 0.9911965131759644, \"dimension\": 6, \"position\": 27}, {\"embedding\": 0.9808759093284607, \"dimension\": 6, \"position\": 28}, {\"embedding\": 0.9666516780853271, \"dimension\": 6, \"position\": 29}, {\"embedding\": 0.9485803842544556, \"dimension\": 6, \"position\": 30}, {\"embedding\": 0.9267339706420898, \"dimension\": 6, \"position\": 31}, {\"embedding\": 0.9011994004249573, \"dimension\": 6, \"position\": 32}, {\"embedding\": 0.8720781803131104, \"dimension\": 6, \"position\": 33}, {\"embedding\": 0.8394865393638611, \"dimension\": 6, \"position\": 34}, {\"embedding\": 0.8035537600517273, \"dimension\": 6, \"position\": 35}, {\"embedding\": 0.7644230127334595, \"dimension\": 6, \"position\": 36}, {\"embedding\": 0.7222501039505005, \"dimension\": 6, \"position\": 37}, {\"embedding\": 0.6772029399871826, \"dimension\": 6, \"position\": 38}, {\"embedding\": 0.6294605135917664, \"dimension\": 6, \"position\": 39}, {\"embedding\": 0.57921302318573, \"dimension\": 6, \"position\": 40}, {\"embedding\": 0.5266605615615845, \"dimension\": 6, \"position\": 41}, {\"embedding\": 0.4720119535923004, \"dimension\": 6, \"position\": 42}, {\"embedding\": 0.41548484563827515, \"dimension\": 6, \"position\": 43}, {\"embedding\": 0.357304185628891, \"dimension\": 6, \"position\": 44}, {\"embedding\": 0.29770180583000183, \"dimension\": 6, \"position\": 45}, {\"embedding\": 0.23691439628601074, \"dimension\": 6, \"position\": 46}, {\"embedding\": 0.17518411576747894, \"dimension\": 6, \"position\": 47}, {\"embedding\": 0.1127568930387497, \"dimension\": 6, \"position\": 48}, {\"embedding\": 0.04988069087266922, \"dimension\": 6, \"position\": 49}, {\"embedding\": -0.013194027356803417, \"dimension\": 6, \"position\": 50}, {\"embedding\": -0.07621623575687408, \"dimension\": 6, \"position\": 51}, {\"embedding\": -0.1389348804950714, \"dimension\": 6, \"position\": 52}, {\"embedding\": -0.20110084116458893, \"dimension\": 6, \"position\": 53}, {\"embedding\": -0.2624664604663849, \"dimension\": 6, \"position\": 54}, {\"embedding\": -0.3227875530719757, \"dimension\": 6, \"position\": 55}, {\"embedding\": -0.3818237781524658, \"dimension\": 6, \"position\": 56}, {\"embedding\": -0.4393406808376312, \"dimension\": 6, \"position\": 57}, {\"embedding\": -0.49510911107063293, \"dimension\": 6, \"position\": 58}, {\"embedding\": -0.5489069223403931, \"dimension\": 6, \"position\": 59}, {\"embedding\": -0.6005204319953918, \"dimension\": 6, \"position\": 60}, {\"embedding\": -0.6497439742088318, \"dimension\": 6, \"position\": 61}, {\"embedding\": -0.6963817477226257, \"dimension\": 6, \"position\": 62}, {\"embedding\": -0.7402478456497192, \"dimension\": 6, \"position\": 63}, {\"embedding\": -0.7811681628227234, \"dimension\": 6, \"position\": 64}, {\"embedding\": -0.8189795017242432, \"dimension\": 6, \"position\": 65}, {\"embedding\": -0.8535317182540894, \"dimension\": 6, \"position\": 66}, {\"embedding\": -0.8846868872642517, \"dimension\": 6, \"position\": 67}, {\"embedding\": -0.9123212099075317, \"dimension\": 6, \"position\": 68}, {\"embedding\": -0.936324954032898, \"dimension\": 6, \"position\": 69}, {\"embedding\": -0.9566020965576172, \"dimension\": 6, \"position\": 70}, {\"embedding\": -0.9730724096298218, \"dimension\": 6, \"position\": 71}, {\"embedding\": -0.9856699705123901, \"dimension\": 6, \"position\": 72}, {\"embedding\": -0.9943448305130005, \"dimension\": 6, \"position\": 73}, {\"embedding\": -0.9990625381469727, \"dimension\": 6, \"position\": 74}, {\"embedding\": -0.9998041391372681, \"dimension\": 6, \"position\": 75}, {\"embedding\": -0.9965668320655823, \"dimension\": 6, \"position\": 76}, {\"embedding\": -0.9893633723258972, \"dimension\": 6, \"position\": 77}, {\"embedding\": -0.9782225489616394, \"dimension\": 6, \"position\": 78}, {\"embedding\": -0.963188648223877, \"dimension\": 6, \"position\": 79}, {\"embedding\": -0.9443213939666748, \"dimension\": 6, \"position\": 80}, {\"embedding\": -0.9216960668563843, \"dimension\": 6, \"position\": 81}, {\"embedding\": -0.8954026699066162, \"dimension\": 6, \"position\": 82}, {\"embedding\": -0.8655455708503723, \"dimension\": 6, \"position\": 83}, {\"embedding\": -0.8322440981864929, \"dimension\": 6, \"position\": 84}, {\"embedding\": -0.795630156993866, \"dimension\": 6, \"position\": 85}, {\"embedding\": -0.7558501362800598, \"dimension\": 6, \"position\": 86}, {\"embedding\": -0.7130619883537292, \"dimension\": 6, \"position\": 87}, {\"embedding\": -0.6674357056617737, \"dimension\": 6, \"position\": 88}, {\"embedding\": -0.6191535592079163, \"dimension\": 6, \"position\": 89}, {\"embedding\": -0.5684073567390442, \"dimension\": 6, \"position\": 90}, {\"embedding\": -0.5153986215591431, \"dimension\": 6, \"position\": 91}, {\"embedding\": -0.46033912897109985, \"dimension\": 6, \"position\": 92}, {\"embedding\": -0.40344759821891785, \"dimension\": 6, \"position\": 93}, {\"embedding\": -0.34495002031326294, \"dimension\": 6, \"position\": 94}, {\"embedding\": -0.28508007526397705, \"dimension\": 6, \"position\": 95}, {\"embedding\": -0.22407560050487518, \"dimension\": 6, \"position\": 96}, {\"embedding\": -0.1621788740158081, \"dimension\": 6, \"position\": 97}, {\"embedding\": -0.09963719546794891, \"dimension\": 6, \"position\": 98}, {\"embedding\": -0.03669850528240204, \"dimension\": 6, \"position\": 99}, {\"embedding\": 1.0, \"dimension\": 7, \"position\": 0}, {\"embedding\": 0.9980100989341736, \"dimension\": 7, \"position\": 1}, {\"embedding\": 0.992048442363739, \"dimension\": 7, \"position\": 2}, {\"embedding\": 0.9821385741233826, \"dimension\": 7, \"position\": 3}, {\"embedding\": 0.9683201313018799, \"dimension\": 7, \"position\": 4}, {\"embedding\": 0.9506479501724243, \"dimension\": 7, \"position\": 5}, {\"embedding\": 0.9291924834251404, \"dimension\": 7, \"position\": 6}, {\"embedding\": 0.9040390253067017, \"dimension\": 7, \"position\": 7}, {\"embedding\": 0.8752877116203308, \"dimension\": 7, \"position\": 8}, {\"embedding\": 0.8430529832839966, \"dimension\": 7, \"position\": 9}, {\"embedding\": 0.8074630498886108, \"dimension\": 7, \"position\": 10}, {\"embedding\": 0.7686597108840942, \"dimension\": 7, \"position\": 11}, {\"embedding\": 0.7267972826957703, \"dimension\": 7, \"position\": 12}, {\"embedding\": 0.6820423603057861, \"dimension\": 7, \"position\": 13}, {\"embedding\": 0.6345730423927307, \"dimension\": 7, \"position\": 14}, {\"embedding\": 0.5845783352851868, \"dimension\": 7, \"position\": 15}, {\"embedding\": 0.532257080078125, \"dimension\": 7, \"position\": 16}, {\"embedding\": 0.47781768441200256, \"dimension\": 7, \"position\": 17}, {\"embedding\": 0.4214765727519989, \"dimension\": 7, \"position\": 18}, {\"embedding\": 0.36345818638801575, \"dimension\": 7, \"position\": 19}, {\"embedding\": 0.30399322509765625, \"dimension\": 7, \"position\": 20}, {\"embedding\": 0.243318572640419, \"dimension\": 7, \"position\": 21}, {\"embedding\": 0.18167544901371002, \"dimension\": 7, \"position\": 22}, {\"embedding\": 0.11930941045284271, \"dimension\": 7, \"position\": 23}, {\"embedding\": 0.056468550115823746, \"dimension\": 7, \"position\": 24}, {\"embedding\": -0.006597157102078199, \"dimension\": 7, \"position\": 25}, {\"embedding\": -0.06963648647069931, \"dimension\": 7, \"position\": 26}, {\"embedding\": -0.1323987990617752, \"dimension\": 7, \"position\": 27}, {\"embedding\": -0.1946340948343277, \"dimension\": 7, \"position\": 28}, {\"embedding\": -0.25609490275382996, \"dimension\": 7, \"position\": 29}, {\"embedding\": -0.31653639674186707, \"dimension\": 7, \"position\": 30}, {\"embedding\": -0.37571826577186584, \"dimension\": 7, \"position\": 31}, {\"embedding\": -0.43340474367141724, \"dimension\": 7, \"position\": 32}, {\"embedding\": -0.4893665015697479, \"dimension\": 7, \"position\": 33}, {\"embedding\": -0.5433804988861084, \"dimension\": 7, \"position\": 34}, {\"embedding\": -0.5952321887016296, \"dimension\": 7, \"position\": 35}, {\"embedding\": -0.6447150111198425, \"dimension\": 7, \"position\": 36}, {\"embedding\": -0.6916319727897644, \"dimension\": 7, \"position\": 37}, {\"embedding\": -0.7357962727546692, \"dimension\": 7, \"position\": 38}, {\"embedding\": -0.7770324349403381, \"dimension\": 7, \"position\": 39}, {\"embedding\": -0.8151761889457703, \"dimension\": 7, \"position\": 40}, {\"embedding\": -0.8500756621360779, \"dimension\": 7, \"position\": 41}, {\"embedding\": -0.8815921545028687, \"dimension\": 7, \"position\": 42}, {\"embedding\": -0.9096000790596008, \"dimension\": 7, \"position\": 43}, {\"embedding\": -0.933988094329834, \"dimension\": 7, \"position\": 44}, {\"embedding\": -0.9546589255332947, \"dimension\": 7, \"position\": 45}, {\"embedding\": -0.971530556678772, \"dimension\": 7, \"position\": 46}, {\"embedding\": -0.9845356941223145, \"dimension\": 7, \"position\": 47}, {\"embedding\": -0.9936226010322571, \"dimension\": 7, \"position\": 48}, {\"embedding\": -0.998755156993866, \"dimension\": 7, \"position\": 49}, {\"embedding\": -0.9999129772186279, \"dimension\": 7, \"position\": 50}, {\"embedding\": -0.9970912933349609, \"dimension\": 7, \"position\": 51}, {\"embedding\": -0.9903014898300171, \"dimension\": 7, \"position\": 52}, {\"embedding\": -0.9795705676078796, \"dimension\": 7, \"position\": 53}, {\"embedding\": -0.9649410843849182, \"dimension\": 7, \"position\": 54}, {\"embedding\": -0.9464714527130127, \"dimension\": 7, \"position\": 55}, {\"embedding\": -0.9242351651191711, \"dimension\": 7, \"position\": 56}, {\"embedding\": -0.8983205556869507, \"dimension\": 7, \"position\": 57}, {\"embedding\": -0.8688308000564575, \"dimension\": 7, \"position\": 58}, {\"embedding\": -0.8358834981918335, \"dimension\": 7, \"position\": 59}, {\"embedding\": -0.7996094226837158, \"dimension\": 7, \"position\": 60}, {\"embedding\": -0.7601531147956848, \"dimension\": 7, \"position\": 61}, {\"embedding\": -0.7176715731620789, \"dimension\": 7, \"position\": 62}, {\"embedding\": -0.6723340749740601, \"dimension\": 7, \"position\": 63}, {\"embedding\": -0.6243206262588501, \"dimension\": 7, \"position\": 64}, {\"embedding\": -0.5738227963447571, \"dimension\": 7, \"position\": 65}, {\"embedding\": -0.5210408568382263, \"dimension\": 7, \"position\": 66}, {\"embedding\": -0.46618568897247314, \"dimension\": 7, \"position\": 67}, {\"embedding\": -0.40947526693344116, \"dimension\": 7, \"position\": 68}, {\"embedding\": -0.3511347770690918, \"dimension\": 7, \"position\": 69}, {\"embedding\": -0.2913972735404968, \"dimension\": 7, \"position\": 70}, {\"embedding\": -0.23049966990947723, \"dimension\": 7, \"position\": 71}, {\"embedding\": -0.1686851680278778, \"dimension\": 7, \"position\": 72}, {\"embedding\": -0.10619935393333435, \"dimension\": 7, \"position\": 73}, {\"embedding\": -0.04329042136669159, \"dimension\": 7, \"position\": 74}, {\"embedding\": 0.019790323451161385, \"dimension\": 7, \"position\": 75}, {\"embedding\": 0.08279230445623398, \"dimension\": 7, \"position\": 76}, {\"embedding\": 0.14546526968479156, \"dimension\": 7, \"position\": 77}, {\"embedding\": 0.20755885541439056, \"dimension\": 7, \"position\": 78}, {\"embedding\": 0.2688263952732086, \"dimension\": 7, \"position\": 79}, {\"embedding\": 0.3290245532989502, \"dimension\": 7, \"position\": 80}, {\"embedding\": 0.3879128098487854, \"dimension\": 7, \"position\": 81}, {\"embedding\": 0.4452572762966156, \"dimension\": 7, \"position\": 82}, {\"embedding\": 0.5008301734924316, \"dimension\": 7, \"position\": 83}, {\"embedding\": 0.5544094443321228, \"dimension\": 7, \"position\": 84}, {\"embedding\": 0.605782687664032, \"dimension\": 7, \"position\": 85}, {\"embedding\": 0.6547446846961975, \"dimension\": 7, \"position\": 86}, {\"embedding\": 0.7011010050773621, \"dimension\": 7, \"position\": 87}, {\"embedding\": 0.7446674108505249, \"dimension\": 7, \"position\": 88}, {\"embedding\": 0.7852699160575867, \"dimension\": 7, \"position\": 89}, {\"embedding\": 0.8227472901344299, \"dimension\": 7, \"position\": 90}, {\"embedding\": 0.8569505214691162, \"dimension\": 7, \"position\": 91}, {\"embedding\": 0.8877431154251099, \"dimension\": 7, \"position\": 92}, {\"embedding\": 0.915002703666687, \"dimension\": 7, \"position\": 93}, {\"embedding\": 0.9386210441589355, \"dimension\": 7, \"position\": 94}, {\"embedding\": 0.9585037231445312, \"dimension\": 7, \"position\": 95}, {\"embedding\": 0.9745717644691467, \"dimension\": 7, \"position\": 96}, {\"embedding\": 0.9867613911628723, \"dimension\": 7, \"position\": 97}, {\"embedding\": 0.9950238466262817, \"dimension\": 7, \"position\": 98}, {\"embedding\": 0.9993264079093933, \"dimension\": 7, \"position\": 99}]}}, {\"mode\": \"vega-lite\"});\n",
       "</script>"
      ],
      "text/plain": [
       "alt.Chart(...)"
      ]
     },
     "execution_count": 58,
     "metadata": {},
     "output_type": "execute_result"
    }
   ],
   "source": [
    "def example_positional():\n",
    "    pe = PositionalEncoding(20, 0)\n",
    "    y = pe.forward(torch.zeros(1, 100, 20))\n",
    "\n",
    "    data = pd.concat(\n",
    "        [\n",
    "            pd.DataFrame(\n",
    "                {\n",
    "                    \"embedding\": y[0, :, dim],\n",
    "                    \"dimension\": dim,\n",
    "                    \"position\": list(range(100)),\n",
    "                }\n",
    "            )\n",
    "            for dim in [4, 5, 6, 7]\n",
    "        ]\n",
    "    )\n",
    "\n",
    "    return (\n",
    "        alt.Chart(data)\n",
    "        .mark_line()\n",
    "        .properties(width=800)\n",
    "        .encode(x=\"position\", y=\"embedding\", color=\"dimension:N\")\n",
    "        .interactive()\n",
    "    )\n",
    "\n",
    "\n",
    "show_example(example_positional)"
   ]
  },
  {
   "cell_type": "markdown",
   "id": "74aef3a8",
   "metadata": {
    "id": "iwNKCzlyTsqI"
   },
   "source": [
    "## Full Model\n",
    "\n",
    "> Here we define a function from hyperparameters to a full model."
   ]
  },
  {
   "cell_type": "code",
   "execution_count": 59,
   "id": "460e5768",
   "metadata": {
    "execution": {
     "iopub.execute_input": "2022-05-02T01:25:19.633281Z",
     "iopub.status.busy": "2022-05-02T01:25:19.632424Z",
     "iopub.status.idle": "2022-05-02T01:25:19.634909Z",
     "shell.execute_reply": "2022-05-02T01:25:19.634216Z"
    },
    "id": "mPe1ES0UTsqI"
   },
   "outputs": [],
   "source": [
    "def make_model(\n",
    "    src_vocab, tgt_vocab, N=6, d_model=512, d_ff=2048, h=8, dropout=0.1\n",
    "):\n",
    "    \"Helper: Construct a model from hyperparameters.\"\n",
    "    c = copy.deepcopy\n",
    "    attn = MultiHeadedAttention(h, d_model)\n",
    "    ff = PositionwiseFeedForward(d_model, d_ff, dropout)\n",
    "    position = PositionalEncoding(d_model, dropout)\n",
    "    model = EncoderDecoder(\n",
    "        Encoder(EncoderLayer(d_model, c(attn), c(ff), dropout), N),\n",
    "        Decoder(DecoderLayer(d_model, c(attn), c(attn), c(ff), dropout), N),\n",
    "        nn.Sequential(Embeddings(d_model, src_vocab), c(position)),\n",
    "        nn.Sequential(Embeddings(d_model, tgt_vocab), c(position)),\n",
    "        Generator(d_model, tgt_vocab),\n",
    "    )\n",
    "\n",
    "    # This was important from their code.\n",
    "    # Initialize parameters with Glorot / fan_avg.\n",
    "    for p in model.parameters():\n",
    "        if p.dim() > 1:\n",
    "            nn.init.xavier_uniform_(p)\n",
    "    return model"
   ]
  },
  {
   "cell_type": "markdown",
   "id": "0e5767b6",
   "metadata": {},
   "source": [
    "## Inference:\n",
    "\n",
    "> Here we make a forward step to generate a prediction of the\n",
    "model. We try to use our transformer to memorize the input. As you\n",
    "will see the output is randomly generated due to the fact that the\n",
    "model is not trained yet. In the next tutorial we will build the\n",
    "training function and try to train our model to memorize the numbers\n",
    "from 1 to 10."
   ]
  },
  {
   "cell_type": "code",
   "execution_count": 60,
   "id": "316fb1d2",
   "metadata": {
    "execution": {
     "iopub.execute_input": "2022-05-02T01:25:19.641806Z",
     "iopub.status.busy": "2022-05-02T01:25:19.640944Z",
     "iopub.status.idle": "2022-05-02T01:25:20.885368Z",
     "shell.execute_reply": "2022-05-02T01:25:20.885607Z"
    }
   },
   "outputs": [
    {
     "name": "stdout",
     "output_type": "stream",
     "text": [
      "Example Untrained Model Prediction: tensor([[0, 8, 5, 9, 5, 9, 5, 9, 5, 9]])\n",
      "Example Untrained Model Prediction: tensor([[0, 8, 6, 8, 6, 8, 6, 8, 6, 8]])\n",
      "Example Untrained Model Prediction: tensor([[ 0,  8,  5, 10,  9, 10,  9,  9,  9, 10]])\n",
      "Example Untrained Model Prediction: tensor([[ 0, 10,  3, 10,  3, 10,  4,  6, 10,  4]])\n",
      "Example Untrained Model Prediction: tensor([[0, 3, 3, 3, 3, 3, 3, 3, 3, 3]])\n",
      "Example Untrained Model Prediction: tensor([[0, 1, 5, 8, 1, 5, 8, 1, 5, 8]])\n",
      "Example Untrained Model Prediction: tensor([[ 0,  7,  4,  8, 10,  9,  0,  6,  4,  8]])\n",
      "Example Untrained Model Prediction: tensor([[0, 8, 1, 8, 1, 8, 1, 8, 1, 8]])\n",
      "Example Untrained Model Prediction: tensor([[0, 6, 9, 8, 9, 8, 9, 8, 9, 8]])\n",
      "Example Untrained Model Prediction: tensor([[0, 4, 4, 9, 0, 4, 9, 0, 4, 0]])\n"
     ]
    }
   ],
   "source": [
    "def inference_test():\n",
    "    test_model = make_model(11, 11, 2)\n",
    "    test_model.eval()\n",
    "    src = torch.LongTensor([[1, 2, 3, 4, 5, 6, 7, 8, 9, 10]])\n",
    "    src_mask = torch.ones(1, 1, 10)\n",
    "\n",
    "    memory = test_model.encode(src, src_mask)\n",
    "    ys = torch.zeros(1, 1).type_as(src)\n",
    "\n",
    "    for i in range(9):\n",
    "        out = test_model.decode(\n",
    "            memory, src_mask, ys, subsequent_mask(ys.size(1)).type_as(src.data)\n",
    "        )\n",
    "        prob = test_model.generator(out[:, -1])\n",
    "        _, next_word = torch.max(prob, dim=1)\n",
    "        next_word = next_word.data[0]\n",
    "        ys = torch.cat(\n",
    "            [ys, torch.empty(1, 1).type_as(src.data).fill_(next_word)], dim=1\n",
    "        )\n",
    "\n",
    "    print(\"Example Untrained Model Prediction:\", ys)\n",
    "\n",
    "\n",
    "def run_tests():\n",
    "    for _ in range(10):\n",
    "        inference_test()\n",
    "\n",
    "\n",
    "show_example(run_tests)"
   ]
  },
  {
   "cell_type": "markdown",
   "id": "859848fd",
   "metadata": {},
   "source": [
    "# Part 2: Model Training"
   ]
  },
  {
   "cell_type": "markdown",
   "id": "16acd58b",
   "metadata": {
    "id": "05s6oT9fTsqI"
   },
   "source": [
    "# Training\n",
    "\n",
    "This section describes the training regime for our models."
   ]
  },
  {
   "cell_type": "markdown",
   "id": "7e4dad0d",
   "metadata": {
    "id": "fTxlofs4TsqI"
   },
   "source": [
    "\n",
    "> We stop for a quick interlude to introduce some of the tools\n",
    "> needed to train a standard encoder decoder model. First we define a\n",
    "> batch object that holds the src and target sentences for training,\n",
    "> as well as constructing the masks."
   ]
  },
  {
   "cell_type": "markdown",
   "id": "918f5ddd",
   "metadata": {
    "id": "G7SkCenXTsqI"
   },
   "source": [
    "## Batches and Masking"
   ]
  },
  {
   "cell_type": "code",
   "execution_count": 61,
   "id": "4ee20bc4",
   "metadata": {
    "execution": {
     "iopub.execute_input": "2022-05-02T01:25:20.889839Z",
     "iopub.status.busy": "2022-05-02T01:25:20.889563Z",
     "iopub.status.idle": "2022-05-02T01:25:20.890646Z",
     "shell.execute_reply": "2022-05-02T01:25:20.892925Z"
    }
   },
   "outputs": [],
   "source": [
    "class Batch:\n",
    "    \"\"\"Object for holding a batch of data with mask during training.\"\"\"\n",
    "\n",
    "    def __init__(self, src, tgt=None, pad=2):  # 2 = <blank>\n",
    "        self.src = src\n",
    "        self.src_mask = (src != pad).unsqueeze(-2)\n",
    "        if tgt is not None:\n",
    "            self.tgt = tgt[:, :-1]\n",
    "            self.tgt_y = tgt[:, 1:]\n",
    "            self.tgt_mask = self.make_std_mask(self.tgt, pad)\n",
    "            self.ntokens = (self.tgt_y != pad).data.sum()\n",
    "\n",
    "    @staticmethod\n",
    "    def make_std_mask(tgt, pad):\n",
    "        \"Create a mask to hide padding and future words.\"\n",
    "        tgt_mask = (tgt != pad).unsqueeze(-2)\n",
    "        tgt_mask = tgt_mask & subsequent_mask(tgt.size(-1)).type_as(\n",
    "            tgt_mask.data\n",
    "        )\n",
    "        return tgt_mask"
   ]
  },
  {
   "cell_type": "markdown",
   "id": "a013a116",
   "metadata": {
    "id": "cKkw5GjLTsqI"
   },
   "source": [
    "\n",
    "> Next we create a generic training and scoring function to keep\n",
    "> track of loss. We pass in a generic loss compute function that\n",
    "> also handles parameter updates."
   ]
  },
  {
   "cell_type": "markdown",
   "id": "934a7a4d",
   "metadata": {
    "id": "Q8zzeUc0TsqJ"
   },
   "source": [
    "## Training Loop"
   ]
  },
  {
   "cell_type": "code",
   "execution_count": 62,
   "id": "bd32298c",
   "metadata": {
    "execution": {
     "iopub.execute_input": "2022-05-02T01:25:20.895558Z",
     "iopub.status.busy": "2022-05-02T01:25:20.895196Z",
     "iopub.status.idle": "2022-05-02T01:25:20.896378Z",
     "shell.execute_reply": "2022-05-02T01:25:20.896666Z"
    }
   },
   "outputs": [],
   "source": [
    "class TrainState:\n",
    "    \"\"\"Track number of steps, examples, and tokens processed\"\"\"\n",
    "\n",
    "    step: int = 0  # Steps in the current epoch\n",
    "    accum_step: int = 0  # Number of gradient accumulation steps\n",
    "    samples: int = 0  # total # of examples used\n",
    "    tokens: int = 0  # total # of tokens processed"
   ]
  },
  {
   "cell_type": "code",
   "execution_count": 63,
   "id": "1013f248",
   "metadata": {
    "execution": {
     "iopub.execute_input": "2022-05-02T01:25:20.901877Z",
     "iopub.status.busy": "2022-05-02T01:25:20.897925Z",
     "iopub.status.idle": "2022-05-02T01:25:20.903288Z",
     "shell.execute_reply": "2022-05-02T01:25:20.902928Z"
    },
    "id": "2HAZD3hiTsqJ"
   },
   "outputs": [],
   "source": [
    "def run_epoch(\n",
    "    data_iter,\n",
    "    model,\n",
    "    loss_compute,\n",
    "    optimizer,\n",
    "    scheduler,\n",
    "    mode=\"train\",\n",
    "    accum_iter=1,\n",
    "    train_state=TrainState(),\n",
    "):\n",
    "    \"\"\"Train a single epoch\"\"\"\n",
    "    start = time.time()\n",
    "    total_tokens = 0\n",
    "    total_loss = 0\n",
    "    tokens = 0\n",
    "    n_accum = 0\n",
    "    for i, batch in enumerate(data_iter):\n",
    "        out = model.forward(\n",
    "            batch.src, batch.tgt, batch.src_mask, batch.tgt_mask\n",
    "        )\n",
    "        loss, loss_node = loss_compute(out, batch.tgt_y, batch.ntokens)\n",
    "        # loss_node = loss_node / accum_iter\n",
    "        if mode == \"train\" or mode == \"train+log\":\n",
    "            loss_node.backward()\n",
    "            train_state.step += 1\n",
    "            train_state.samples += batch.src.shape[0]\n",
    "            train_state.tokens += batch.ntokens\n",
    "            if i % accum_iter == 0:\n",
    "                optimizer.step()\n",
    "                optimizer.zero_grad(set_to_none=True)\n",
    "                n_accum += 1\n",
    "                train_state.accum_step += 1\n",
    "            scheduler.step()\n",
    "\n",
    "        total_loss += loss\n",
    "        total_tokens += batch.ntokens\n",
    "        tokens += batch.ntokens\n",
    "        if i % 40 == 1 and (mode == \"train\" or mode == \"train+log\"):\n",
    "            lr = optimizer.param_groups[0][\"lr\"]\n",
    "            elapsed = time.time() - start\n",
    "            print(\n",
    "                (\n",
    "                    \"Epoch Step: %6d | Accumulation Step: %3d | Loss: %6.2f \"\n",
    "                    + \"| Tokens / Sec: %7.1f | Learning Rate: %6.1e\"\n",
    "                )\n",
    "                % (i, n_accum, loss / batch.ntokens, tokens / elapsed, lr)\n",
    "            )\n",
    "            start = time.time()\n",
    "            tokens = 0\n",
    "        del loss\n",
    "        del loss_node\n",
    "    return total_loss / total_tokens, train_state"
   ]
  },
  {
   "cell_type": "markdown",
   "id": "b78103ca",
   "metadata": {
    "id": "aB1IF0foTsqJ"
   },
   "source": [
    "## Training Data and Batching\n",
    "\n",
    "We trained on the standard WMT 2014 English-German dataset\n",
    "consisting of about 4.5 million sentence pairs.  Sentences were\n",
    "encoded using byte-pair encoding, which has a shared source-target\n",
    "vocabulary of about 37000 tokens. For English-French, we used the\n",
    "significantly larger WMT 2014 English-French dataset consisting of\n",
    "36M sentences and split tokens into a 32000 word-piece vocabulary.\n",
    "\n",
    "\n",
    "Sentence pairs were batched together by approximate sequence length.\n",
    "Each training batch contained a set of sentence pairs containing\n",
    "approximately 25000 source tokens and 25000 target tokens."
   ]
  },
  {
   "cell_type": "markdown",
   "id": "d0b5c7b1",
   "metadata": {
    "incorrectly_encoded_metadata": "id=\"F1mTQatiTsqJ\" jp-MarkdownHeadingCollapsed=true",
    "tags": []
   },
   "source": [
    "## Hardware and Schedule\n",
    "\n",
    "We trained our models on one machine with 8 NVIDIA P100 GPUs.  For\n",
    "our base models using the hyperparameters described throughout the\n",
    "paper, each training step took about 0.4 seconds.  We trained the\n",
    "base models for a total of 100,000 steps or 12 hours. For our big\n",
    "models, step time was 1.0 seconds.  The big models were trained for\n",
    "300,000 steps (3.5 days)."
   ]
  },
  {
   "cell_type": "markdown",
   "id": "3af07c4b",
   "metadata": {
    "id": "-utZeuGcTsqJ"
   },
   "source": [
    "## Optimizer\n",
    "\n",
    "We used the Adam optimizer [(cite)](https://arxiv.org/abs/1412.6980)\n",
    "with $\\beta_1=0.9$, $\\beta_2=0.98$ and $\\epsilon=10^{-9}$.  We\n",
    "varied the learning rate over the course of training, according to\n",
    "the formula:\n",
    "\n",
    "$$\n",
    "lrate = d_{\\text{model}}^{-0.5} \\cdot\n",
    "  \\min({step\\_num}^{-0.5},\n",
    "    {step\\_num} \\cdot {warmup\\_steps}^{-1.5})\n",
    "$$\n",
    "\n",
    "This corresponds to increasing the learning rate linearly for the\n",
    "first $warmup\\_steps$ training steps, and decreasing it thereafter\n",
    "proportionally to the inverse square root of the step number.  We\n",
    "used $warmup\\_steps=4000$."
   ]
  },
  {
   "cell_type": "markdown",
   "id": "760a2716",
   "metadata": {
    "id": "39FbYnt-TsqJ"
   },
   "source": [
    "\n",
    "> Note: This part is very important. Need to train with this setup\n",
    "> of the model."
   ]
  },
  {
   "cell_type": "markdown",
   "id": "e809dff8",
   "metadata": {
    "id": "hlbojFkjTsqJ"
   },
   "source": [
    "\n",
    "> Example of the curves of this model for different model sizes and\n",
    "> for optimization hyperparameters."
   ]
  },
  {
   "cell_type": "code",
   "execution_count": 64,
   "id": "27ded57a",
   "metadata": {
    "execution": {
     "iopub.execute_input": "2022-05-02T01:25:20.906007Z",
     "iopub.status.busy": "2022-05-02T01:25:20.904743Z",
     "iopub.status.idle": "2022-05-02T01:25:20.907701Z",
     "shell.execute_reply": "2022-05-02T01:25:20.907236Z"
    },
    "id": "zUz3PdAnVg4o"
   },
   "outputs": [],
   "source": [
    "def rate(step, model_size, factor, warmup):\n",
    "    \"\"\"\n",
    "    we have to default the step to 1 for LambdaLR function\n",
    "    to avoid zero raising to negative power.\n",
    "    \"\"\"\n",
    "    if step == 0:\n",
    "        step = 1\n",
    "    return factor * (\n",
    "        model_size ** (-0.5) * min(step ** (-0.5), step * warmup ** (-1.5))\n",
    "    )"
   ]
  },
  {
   "cell_type": "code",
   "execution_count": 65,
   "id": "043518a6",
   "metadata": {
    "execution": {
     "iopub.execute_input": "2022-05-02T01:25:20.913235Z",
     "iopub.status.busy": "2022-05-02T01:25:20.912751Z",
     "iopub.status.idle": "2022-05-02T01:25:22.846903Z",
     "shell.execute_reply": "2022-05-02T01:25:22.846024Z"
    },
    "id": "l1bnrlnSV8J5",
    "tags": []
   },
   "outputs": [
    {
     "name": "stdout",
     "output_type": "stream",
     "text": [
      "Unexpected exception formatting exception. Falling back to standard exception\n"
     ]
    },
    {
     "name": "stderr",
     "output_type": "stream",
     "text": [
      "Traceback (most recent call last):\n",
      "  File \"/Users/allanjs88/Documents/src/transformer/env/lib/python3.11/site-packages/altair/vegalite/v5/api.py\", line 2310, in _repr_mimebundle_\n",
      "    dct = self.to_dict(context={\"pre_transform\": False})\n",
      "          ^^^^^^^^^^^^^^^^^^^^^^^^^^^^^^^^^^^^^^^^^^^^^^\n",
      "  File \"/Users/allanjs88/Documents/src/transformer/env/lib/python3.11/site-packages/altair/vegalite/v5/api.py\", line 2713, in to_dict\n",
      "    return super().to_dict(\n",
      "           ^^^^^^^^^^^^^^^^\n",
      "  File \"/Users/allanjs88/Documents/src/transformer/env/lib/python3.11/site-packages/altair/vegalite/v5/api.py\", line 921, in to_dict\n",
      "    vegalite_spec = super(TopLevelMixin, copy).to_dict(  # type: ignore[misc]\n",
      "                    ^^^^^^^^^^^^^^^^^^^^^^^^^^^^^^^^^^^^^^^^^^^^^^^^^^^^^^^^^\n",
      "  File \"/Users/allanjs88/Documents/src/transformer/env/lib/python3.11/site-packages/altair/utils/schemapi.py\", line 965, in to_dict\n",
      "    result = _todict(\n",
      "             ^^^^^^^^\n",
      "  File \"/Users/allanjs88/Documents/src/transformer/env/lib/python3.11/site-packages/altair/utils/schemapi.py\", line 477, in _todict\n",
      "    return {k: _todict(v, context) for k, v in obj.items() if v is not Undefined}\n",
      "           ^^^^^^^^^^^^^^^^^^^^^^^^^^^^^^^^^^^^^^^^^^^^^^^^^^^^^^^^^^^^^^^^^^^^^^\n",
      "  File \"/Users/allanjs88/Documents/src/transformer/env/lib/python3.11/site-packages/altair/utils/schemapi.py\", line 477, in <dictcomp>\n",
      "    return {k: _todict(v, context) for k, v in obj.items() if v is not Undefined}\n",
      "               ^^^^^^^^^^^^^^^^^^^\n",
      "  File \"/Users/allanjs88/Documents/src/transformer/env/lib/python3.11/site-packages/altair/utils/schemapi.py\", line 473, in _todict\n",
      "    return obj.to_dict(validate=False, context=context)\n",
      "           ^^^^^^^^^^^^^^^^^^^^^^^^^^^^^^^^^^^^^^^^^^^^\n",
      "  File \"/Users/allanjs88/Documents/src/transformer/env/lib/python3.11/site-packages/altair/utils/schemapi.py\", line 965, in to_dict\n",
      "    result = _todict(\n",
      "             ^^^^^^^^\n",
      "  File \"/Users/allanjs88/Documents/src/transformer/env/lib/python3.11/site-packages/altair/utils/schemapi.py\", line 477, in _todict\n",
      "    return {k: _todict(v, context) for k, v in obj.items() if v is not Undefined}\n",
      "           ^^^^^^^^^^^^^^^^^^^^^^^^^^^^^^^^^^^^^^^^^^^^^^^^^^^^^^^^^^^^^^^^^^^^^^\n",
      "  File \"/Users/allanjs88/Documents/src/transformer/env/lib/python3.11/site-packages/altair/utils/schemapi.py\", line 477, in <dictcomp>\n",
      "    return {k: _todict(v, context) for k, v in obj.items() if v is not Undefined}\n",
      "               ^^^^^^^^^^^^^^^^^^^\n",
      "  File \"/Users/allanjs88/Documents/src/transformer/env/lib/python3.11/site-packages/altair/utils/schemapi.py\", line 473, in _todict\n",
      "    return obj.to_dict(validate=False, context=context)\n",
      "           ^^^^^^^^^^^^^^^^^^^^^^^^^^^^^^^^^^^^^^^^^^^^\n",
      "  File \"/Users/allanjs88/Documents/src/transformer/env/lib/python3.11/site-packages/altair/vegalite/v5/schema/channels.py\", line 34, in to_dict\n",
      "    parsed = parse_shorthand(shorthand, data=context.get('data', None))\n",
      "             ^^^^^^^^^^^^^^^^^^^^^^^^^^^^^^^^^^^^^^^^^^^^^^^^^^^^^^^^^^\n",
      "  File \"/Users/allanjs88/Documents/src/transformer/env/lib/python3.11/site-packages/altair/utils/core.py\", line 623, in parse_shorthand\n",
      "    raise ValueError(\n",
      "ValueError: \"warmup\" is not one of the valid encoding data types: O, N, Q, T, G.\n",
      "For more details, see https://altair-viz.github.io/user_guide/encodings/index.html#encoding-data-types. If you are trying to use a column name that contains a colon, prefix it with a backslash; for example \"column\\:name\" instead of \"column:name\".\n",
      "\n",
      "During handling of the above exception, another exception occurred:\n",
      "\n",
      "Traceback (most recent call last):\n",
      "  File \"/Users/allanjs88/Documents/src/transformer/env/lib/python3.11/site-packages/pygments/styles/__init__.py\", line 45, in get_style_by_name\n",
      "ModuleNotFoundError: No module named 'pygments.styles.default'\n",
      "\n",
      "During handling of the above exception, another exception occurred:\n",
      "\n",
      "Traceback (most recent call last):\n",
      "  File \"/Users/allanjs88/Documents/src/transformer/env/lib/python3.11/site-packages/IPython/core/interactiveshell.py\", line 2142, in showtraceback\n",
      "  File \"/Users/allanjs88/Documents/src/transformer/env/lib/python3.11/site-packages/IPython/core/ultratb.py\", line 1435, in structured_traceback\n",
      "  File \"/Users/allanjs88/Documents/src/transformer/env/lib/python3.11/site-packages/IPython/core/ultratb.py\", line 1326, in structured_traceback\n",
      "  File \"/Users/allanjs88/Documents/src/transformer/env/lib/python3.11/site-packages/IPython/core/ultratb.py\", line 1173, in structured_traceback\n",
      "  File \"/Users/allanjs88/Documents/src/transformer/env/lib/python3.11/site-packages/IPython/core/ultratb.py\", line 1063, in format_exception_as_a_whole\n",
      "  File \"/Users/allanjs88/Documents/src/transformer/env/lib/python3.11/site-packages/IPython/core/ultratb.py\", line 1114, in get_records\n",
      "  File \"/Users/allanjs88/Documents/src/transformer/env/lib/python3.11/site-packages/pygments/styles/__init__.py\", line 47, in get_style_by_name\n",
      "pygments.util.ClassNotFound: Could not find style module 'pygments.styles.default', though it should be builtin.\n"
     ]
    },
    {
     "data": {
      "text/plain": [
       "alt.Chart(...)"
      ]
     },
     "execution_count": 65,
     "metadata": {},
     "output_type": "execute_result"
    }
   ],
   "source": [
    "def example_learning_schedule():\n",
    "    opts = [\n",
    "        [512, 1, 4000],  # example 1\n",
    "        [512, 1, 8000],  # example 2\n",
    "        [256, 1, 4000],  # example 3\n",
    "    ]\n",
    "\n",
    "    dummy_model = torch.nn.Linear(1, 1)\n",
    "    learning_rates = []\n",
    "\n",
    "    # we have 3 examples in opts list.\n",
    "    for idx, example in enumerate(opts):\n",
    "        # run 20000 epoch for each example\n",
    "        optimizer = torch.optim.Adam(\n",
    "            dummy_model.parameters(), lr=1, betas=(0.9, 0.98), eps=1e-9\n",
    "        )\n",
    "        lr_scheduler = LambdaLR(\n",
    "            optimizer=optimizer, lr_lambda=lambda step: rate(step, *example)\n",
    "        )\n",
    "        tmp = []\n",
    "        # take 20K dummy training steps, save the learning rate at each step\n",
    "        for step in range(20000):\n",
    "            tmp.append(optimizer.param_groups[0][\"lr\"])\n",
    "            optimizer.step()\n",
    "            lr_scheduler.step()\n",
    "        learning_rates.append(tmp)\n",
    "\n",
    "    learning_rates = torch.tensor(learning_rates)\n",
    "\n",
    "    # Enable altair to handle more than 5000 rows\n",
    "    alt.data_transformers.disable_max_rows()\n",
    "\n",
    "    opts_data = pd.concat(\n",
    "        [\n",
    "            pd.DataFrame(\n",
    "                {\n",
    "                    \"Learning Rate\": learning_rates[warmup_idx, :],\n",
    "                    \"model_size:warmup\": [\"512:4000\", \"512:8000\", \"256:4000\"][\n",
    "                        warmup_idx\n",
    "                    ],\n",
    "                    \"step\": range(20000),\n",
    "                }\n",
    "            )\n",
    "            for warmup_idx in [0, 1, 2]\n",
    "        ]\n",
    "    )\n",
    "\n",
    "    return (\n",
    "        alt.Chart(opts_data)\n",
    "        .mark_line()\n",
    "        .properties(width=600)\n",
    "        .encode(x=\"step\", y=\"Learning Rate\", color=\"model_size:warmup:N\")\n",
    "        .interactive()\n",
    "    )\n",
    "\n",
    "\n",
    "example_learning_schedule()"
   ]
  },
  {
   "cell_type": "markdown",
   "id": "aa2e3c6e",
   "metadata": {
    "id": "7T1uD15VTsqK"
   },
   "source": [
    "## Regularization\n",
    "\n",
    "### Label Smoothing\n",
    "\n",
    "During training, we employed label smoothing of value\n",
    "$\\epsilon_{ls}=0.1$ [(cite)](https://arxiv.org/abs/1512.00567).\n",
    "This hurts perplexity, as the model learns to be more unsure, but\n",
    "improves accuracy and BLEU score."
   ]
  },
  {
   "cell_type": "markdown",
   "id": "32b5b708",
   "metadata": {
    "id": "kNoAVD8bTsqK"
   },
   "source": [
    "\n",
    "> We implement label smoothing using the KL div loss. Instead of\n",
    "> using a one-hot target distribution, we create a distribution that\n",
    "> has `confidence` of the correct word and the rest of the\n",
    "> `smoothing` mass distributed throughout the vocabulary."
   ]
  },
  {
   "cell_type": "code",
   "execution_count": 66,
   "id": "77d96f50",
   "metadata": {
    "execution": {
     "iopub.execute_input": "2022-05-02T01:25:22.858827Z",
     "iopub.status.busy": "2022-05-02T01:25:22.858459Z",
     "iopub.status.idle": "2022-05-02T01:25:22.860907Z",
     "shell.execute_reply": "2022-05-02T01:25:22.861184Z"
    },
    "id": "shU2GyiETsqK",
    "lines_to_next_cell": 2
   },
   "outputs": [],
   "source": [
    "class LabelSmoothing(nn.Module):\n",
    "    \"Implement label smoothing.\"\n",
    "\n",
    "    def __init__(self, size, padding_idx, smoothing=0.0):\n",
    "        super(LabelSmoothing, self).__init__()\n",
    "        self.criterion = nn.KLDivLoss(reduction=\"sum\")\n",
    "        self.padding_idx = padding_idx\n",
    "        self.confidence = 1.0 - smoothing\n",
    "        self.smoothing = smoothing\n",
    "        self.size = size\n",
    "        self.true_dist = None\n",
    "\n",
    "    def forward(self, x, target):\n",
    "        assert x.size(1) == self.size\n",
    "        true_dist = x.data.clone()\n",
    "        true_dist.fill_(self.smoothing / (self.size - 2))\n",
    "        true_dist.scatter_(1, target.data.unsqueeze(1), self.confidence)\n",
    "        true_dist[:, self.padding_idx] = 0\n",
    "        mask = torch.nonzero(target.data == self.padding_idx)\n",
    "        if mask.dim() > 0:\n",
    "            true_dist.index_fill_(0, mask.squeeze(), 0.0)\n",
    "        self.true_dist = true_dist\n",
    "        return self.criterion(x, true_dist.clone().detach())"
   ]
  },
  {
   "cell_type": "markdown",
   "id": "cd102b03",
   "metadata": {
    "id": "jCxUrlUyTsqK"
   },
   "source": [
    "\n",
    "> Here we can see an example of how the mass is distributed to the\n",
    "> words based on confidence."
   ]
  },
  {
   "cell_type": "code",
   "execution_count": 67,
   "id": "a165ed13",
   "metadata": {
    "execution": {
     "iopub.execute_input": "2022-05-02T01:25:22.872854Z",
     "iopub.status.busy": "2022-05-02T01:25:22.872373Z",
     "iopub.status.idle": "2022-05-02T01:25:23.190398Z",
     "shell.execute_reply": "2022-05-02T01:25:23.190149Z"
    },
    "id": "EZtKaaQNTsqK",
    "lines_to_next_cell": 2
   },
   "outputs": [
    {
     "data": {
      "text/html": [
       "\n",
       "<style>\n",
       "  #altair-viz-87cf00b0094747b1b38440fb3db75b22.vega-embed {\n",
       "    width: 100%;\n",
       "    display: flex;\n",
       "  }\n",
       "\n",
       "  #altair-viz-87cf00b0094747b1b38440fb3db75b22.vega-embed details,\n",
       "  #altair-viz-87cf00b0094747b1b38440fb3db75b22.vega-embed details summary {\n",
       "    position: relative;\n",
       "  }\n",
       "</style>\n",
       "<div id=\"altair-viz-87cf00b0094747b1b38440fb3db75b22\"></div>\n",
       "<script type=\"text/javascript\">\n",
       "  var VEGA_DEBUG = (typeof VEGA_DEBUG == \"undefined\") ? {} : VEGA_DEBUG;\n",
       "  (function(spec, embedOpt){\n",
       "    let outputDiv = document.currentScript.previousElementSibling;\n",
       "    if (outputDiv.id !== \"altair-viz-87cf00b0094747b1b38440fb3db75b22\") {\n",
       "      outputDiv = document.getElementById(\"altair-viz-87cf00b0094747b1b38440fb3db75b22\");\n",
       "    }\n",
       "    const paths = {\n",
       "      \"vega\": \"https://cdn.jsdelivr.net/npm/vega@5?noext\",\n",
       "      \"vega-lib\": \"https://cdn.jsdelivr.net/npm/vega-lib?noext\",\n",
       "      \"vega-lite\": \"https://cdn.jsdelivr.net/npm/vega-lite@5.15.1?noext\",\n",
       "      \"vega-embed\": \"https://cdn.jsdelivr.net/npm/vega-embed@6?noext\",\n",
       "    };\n",
       "\n",
       "    function maybeLoadScript(lib, version) {\n",
       "      var key = `${lib.replace(\"-\", \"\")}_version`;\n",
       "      return (VEGA_DEBUG[key] == version) ?\n",
       "        Promise.resolve(paths[lib]) :\n",
       "        new Promise(function(resolve, reject) {\n",
       "          var s = document.createElement('script');\n",
       "          document.getElementsByTagName(\"head\")[0].appendChild(s);\n",
       "          s.async = true;\n",
       "          s.onload = () => {\n",
       "            VEGA_DEBUG[key] = version;\n",
       "            return resolve(paths[lib]);\n",
       "          };\n",
       "          s.onerror = () => reject(`Error loading script: ${paths[lib]}`);\n",
       "          s.src = paths[lib];\n",
       "        });\n",
       "    }\n",
       "\n",
       "    function showError(err) {\n",
       "      outputDiv.innerHTML = `<div class=\"error\" style=\"color:red;\">${err}</div>`;\n",
       "      throw err;\n",
       "    }\n",
       "\n",
       "    function displayChart(vegaEmbed) {\n",
       "      vegaEmbed(outputDiv, spec, embedOpt)\n",
       "        .catch(err => showError(`Javascript Error: ${err.message}<br>This usually means there's a typo in your chart specification. See the javascript console for the full traceback.`));\n",
       "    }\n",
       "\n",
       "    if(typeof define === \"function\" && define.amd) {\n",
       "      requirejs.config({paths});\n",
       "      require([\"vega-embed\"], displayChart, err => showError(`Error loading script: ${err.message}`));\n",
       "    } else {\n",
       "      maybeLoadScript(\"vega\", \"5\")\n",
       "        .then(() => maybeLoadScript(\"vega-lite\", \"5.15.1\"))\n",
       "        .then(() => maybeLoadScript(\"vega-embed\", \"6\"))\n",
       "        .catch(showError)\n",
       "        .then(() => displayChart(vegaEmbed));\n",
       "    }\n",
       "  })({\"config\": {\"view\": {\"continuousWidth\": 300, \"continuousHeight\": 300}}, \"data\": {\"name\": \"data-657da60f13fd21ce0024d47b52e08641\"}, \"mark\": {\"type\": \"rect\", \"color\": \"Blue\", \"opacity\": 1}, \"encoding\": {\"color\": {\"field\": \"target distribution\", \"scale\": {\"scheme\": \"viridis\"}, \"type\": \"quantitative\"}, \"x\": {\"field\": \"columns\", \"title\": null, \"type\": \"ordinal\"}, \"y\": {\"field\": \"rows\", \"title\": null, \"type\": \"ordinal\"}}, \"height\": 200, \"params\": [{\"name\": \"param_3\", \"select\": {\"type\": \"interval\", \"encodings\": [\"x\", \"y\"]}, \"bind\": \"scales\"}], \"width\": 200, \"$schema\": \"https://vega.github.io/schema/vega-lite/v5.15.1.json\", \"datasets\": {\"data-657da60f13fd21ce0024d47b52e08641\": [{\"target distribution\": 0.0, \"columns\": 0, \"rows\": 0}, {\"target distribution\": 0.0, \"columns\": 0, \"rows\": 1}, {\"target distribution\": 0.0, \"columns\": 0, \"rows\": 2}, {\"target distribution\": 0.0, \"columns\": 0, \"rows\": 3}, {\"target distribution\": 0.0, \"columns\": 0, \"rows\": 4}, {\"target distribution\": 0.13333334028720856, \"columns\": 1, \"rows\": 0}, {\"target distribution\": 0.6000000238418579, \"columns\": 1, \"rows\": 1}, {\"target distribution\": 0.0, \"columns\": 1, \"rows\": 2}, {\"target distribution\": 0.13333334028720856, \"columns\": 1, \"rows\": 3}, {\"target distribution\": 0.13333334028720856, \"columns\": 1, \"rows\": 4}, {\"target distribution\": 0.6000000238418579, \"columns\": 2, \"rows\": 0}, {\"target distribution\": 0.13333334028720856, \"columns\": 2, \"rows\": 1}, {\"target distribution\": 0.0, \"columns\": 2, \"rows\": 2}, {\"target distribution\": 0.13333334028720856, \"columns\": 2, \"rows\": 3}, {\"target distribution\": 0.13333334028720856, \"columns\": 2, \"rows\": 4}, {\"target distribution\": 0.13333334028720856, \"columns\": 3, \"rows\": 0}, {\"target distribution\": 0.13333334028720856, \"columns\": 3, \"rows\": 1}, {\"target distribution\": 0.0, \"columns\": 3, \"rows\": 2}, {\"target distribution\": 0.6000000238418579, \"columns\": 3, \"rows\": 3}, {\"target distribution\": 0.6000000238418579, \"columns\": 3, \"rows\": 4}, {\"target distribution\": 0.13333334028720856, \"columns\": 4, \"rows\": 0}, {\"target distribution\": 0.13333334028720856, \"columns\": 4, \"rows\": 1}, {\"target distribution\": 0.0, \"columns\": 4, \"rows\": 2}, {\"target distribution\": 0.13333334028720856, \"columns\": 4, \"rows\": 3}, {\"target distribution\": 0.13333334028720856, \"columns\": 4, \"rows\": 4}]}}, {\"mode\": \"vega-lite\"});\n",
       "</script>"
      ],
      "text/plain": [
       "alt.Chart(...)"
      ]
     },
     "execution_count": 67,
     "metadata": {},
     "output_type": "execute_result"
    }
   ],
   "source": [
    "# Example of label smoothing.\n",
    "\n",
    "\n",
    "def example_label_smoothing():\n",
    "    crit = LabelSmoothing(5, 0, 0.4)\n",
    "    predict = torch.FloatTensor(\n",
    "        [\n",
    "            [0, 0.2, 0.7, 0.1, 0],\n",
    "            [0, 0.2, 0.7, 0.1, 0],\n",
    "            [0, 0.2, 0.7, 0.1, 0],\n",
    "            [0, 0.2, 0.7, 0.1, 0],\n",
    "            [0, 0.2, 0.7, 0.1, 0],\n",
    "        ]\n",
    "    )\n",
    "    crit(x=predict.log(), target=torch.LongTensor([2, 1, 0, 3, 3]))\n",
    "    LS_data = pd.concat(\n",
    "        [\n",
    "            pd.DataFrame(\n",
    "                {\n",
    "                    \"target distribution\": crit.true_dist[x, y].flatten(),\n",
    "                    \"columns\": y,\n",
    "                    \"rows\": x,\n",
    "                }\n",
    "            )\n",
    "            for y in range(5)\n",
    "            for x in range(5)\n",
    "        ]\n",
    "    )\n",
    "\n",
    "    return (\n",
    "        alt.Chart(LS_data)\n",
    "        .mark_rect(color=\"Blue\", opacity=1)\n",
    "        .properties(height=200, width=200)\n",
    "        .encode(\n",
    "            alt.X(\"columns:O\", title=None),\n",
    "            alt.Y(\"rows:O\", title=None),\n",
    "            alt.Color(\n",
    "                \"target distribution:Q\", scale=alt.Scale(scheme=\"viridis\")\n",
    "            ),\n",
    "        )\n",
    "        .interactive()\n",
    "    )\n",
    "\n",
    "\n",
    "show_example(example_label_smoothing)"
   ]
  },
  {
   "cell_type": "markdown",
   "id": "dd4ba439",
   "metadata": {
    "id": "CGM8J1veTsqK"
   },
   "source": [
    "\n",
    "> Label smoothing actually starts to penalize the model if it gets\n",
    "> very confident about a given choice."
   ]
  },
  {
   "cell_type": "code",
   "execution_count": 68,
   "id": "7f4936fa",
   "metadata": {
    "execution": {
     "iopub.execute_input": "2022-05-02T01:25:23.195609Z",
     "iopub.status.busy": "2022-05-02T01:25:23.195284Z",
     "iopub.status.idle": "2022-05-02T01:25:23.450431Z",
     "shell.execute_reply": "2022-05-02T01:25:23.451135Z"
    },
    "id": "78EHzLP7TsqK"
   },
   "outputs": [
    {
     "data": {
      "text/html": [
       "\n",
       "<style>\n",
       "  #altair-viz-297a7b80088b432081076e4d715697f7.vega-embed {\n",
       "    width: 100%;\n",
       "    display: flex;\n",
       "  }\n",
       "\n",
       "  #altair-viz-297a7b80088b432081076e4d715697f7.vega-embed details,\n",
       "  #altair-viz-297a7b80088b432081076e4d715697f7.vega-embed details summary {\n",
       "    position: relative;\n",
       "  }\n",
       "</style>\n",
       "<div id=\"altair-viz-297a7b80088b432081076e4d715697f7\"></div>\n",
       "<script type=\"text/javascript\">\n",
       "  var VEGA_DEBUG = (typeof VEGA_DEBUG == \"undefined\") ? {} : VEGA_DEBUG;\n",
       "  (function(spec, embedOpt){\n",
       "    let outputDiv = document.currentScript.previousElementSibling;\n",
       "    if (outputDiv.id !== \"altair-viz-297a7b80088b432081076e4d715697f7\") {\n",
       "      outputDiv = document.getElementById(\"altair-viz-297a7b80088b432081076e4d715697f7\");\n",
       "    }\n",
       "    const paths = {\n",
       "      \"vega\": \"https://cdn.jsdelivr.net/npm/vega@5?noext\",\n",
       "      \"vega-lib\": \"https://cdn.jsdelivr.net/npm/vega-lib?noext\",\n",
       "      \"vega-lite\": \"https://cdn.jsdelivr.net/npm/vega-lite@5.15.1?noext\",\n",
       "      \"vega-embed\": \"https://cdn.jsdelivr.net/npm/vega-embed@6?noext\",\n",
       "    };\n",
       "\n",
       "    function maybeLoadScript(lib, version) {\n",
       "      var key = `${lib.replace(\"-\", \"\")}_version`;\n",
       "      return (VEGA_DEBUG[key] == version) ?\n",
       "        Promise.resolve(paths[lib]) :\n",
       "        new Promise(function(resolve, reject) {\n",
       "          var s = document.createElement('script');\n",
       "          document.getElementsByTagName(\"head\")[0].appendChild(s);\n",
       "          s.async = true;\n",
       "          s.onload = () => {\n",
       "            VEGA_DEBUG[key] = version;\n",
       "            return resolve(paths[lib]);\n",
       "          };\n",
       "          s.onerror = () => reject(`Error loading script: ${paths[lib]}`);\n",
       "          s.src = paths[lib];\n",
       "        });\n",
       "    }\n",
       "\n",
       "    function showError(err) {\n",
       "      outputDiv.innerHTML = `<div class=\"error\" style=\"color:red;\">${err}</div>`;\n",
       "      throw err;\n",
       "    }\n",
       "\n",
       "    function displayChart(vegaEmbed) {\n",
       "      vegaEmbed(outputDiv, spec, embedOpt)\n",
       "        .catch(err => showError(`Javascript Error: ${err.message}<br>This usually means there's a typo in your chart specification. See the javascript console for the full traceback.`));\n",
       "    }\n",
       "\n",
       "    if(typeof define === \"function\" && define.amd) {\n",
       "      requirejs.config({paths});\n",
       "      require([\"vega-embed\"], displayChart, err => showError(`Error loading script: ${err.message}`));\n",
       "    } else {\n",
       "      maybeLoadScript(\"vega\", \"5\")\n",
       "        .then(() => maybeLoadScript(\"vega-lite\", \"5.15.1\"))\n",
       "        .then(() => maybeLoadScript(\"vega-embed\", \"6\"))\n",
       "        .catch(showError)\n",
       "        .then(() => displayChart(vegaEmbed));\n",
       "    }\n",
       "  })({\"config\": {\"view\": {\"continuousWidth\": 300, \"continuousHeight\": 300}}, \"data\": {\"name\": \"data-addfafb72c61fa5f0da014aff2bc34e2\"}, \"mark\": {\"type\": \"line\"}, \"encoding\": {\"x\": {\"field\": \"Steps\", \"type\": \"quantitative\"}, \"y\": {\"field\": \"Loss\", \"type\": \"quantitative\"}}, \"params\": [{\"name\": \"param_4\", \"select\": {\"type\": \"interval\", \"encodings\": [\"x\", \"y\"]}, \"bind\": \"scales\"}], \"width\": 350, \"$schema\": \"https://vega.github.io/schema/vega-lite/v5.15.1.json\", \"datasets\": {\"data-addfafb72c61fa5f0da014aff2bc34e2\": [{\"Loss\": null, \"Steps\": 0.0}, {\"Loss\": null, \"Steps\": 1.0}, {\"Loss\": null, \"Steps\": 2.0}, {\"Loss\": null, \"Steps\": 3.0}, {\"Loss\": null, \"Steps\": 4.0}, {\"Loss\": null, \"Steps\": 5.0}, {\"Loss\": null, \"Steps\": 6.0}, {\"Loss\": null, \"Steps\": 7.0}, {\"Loss\": null, \"Steps\": 8.0}, {\"Loss\": null, \"Steps\": 9.0}, {\"Loss\": null, \"Steps\": 10.0}, {\"Loss\": null, \"Steps\": 11.0}, {\"Loss\": null, \"Steps\": 12.0}, {\"Loss\": null, \"Steps\": 13.0}, {\"Loss\": null, \"Steps\": 14.0}, {\"Loss\": null, \"Steps\": 15.0}, {\"Loss\": null, \"Steps\": 16.0}, {\"Loss\": null, \"Steps\": 17.0}, {\"Loss\": null, \"Steps\": 18.0}, {\"Loss\": null, \"Steps\": 19.0}, {\"Loss\": null, \"Steps\": 20.0}, {\"Loss\": null, \"Steps\": 21.0}, {\"Loss\": null, \"Steps\": 22.0}, {\"Loss\": null, \"Steps\": 23.0}, {\"Loss\": null, \"Steps\": 24.0}, {\"Loss\": null, \"Steps\": 25.0}, {\"Loss\": null, \"Steps\": 26.0}, {\"Loss\": null, \"Steps\": 27.0}, {\"Loss\": null, \"Steps\": 28.0}, {\"Loss\": null, \"Steps\": 29.0}, {\"Loss\": null, \"Steps\": 30.0}, {\"Loss\": null, \"Steps\": 31.0}, {\"Loss\": null, \"Steps\": 32.0}, {\"Loss\": null, \"Steps\": 33.0}, {\"Loss\": null, \"Steps\": 34.0}, {\"Loss\": null, \"Steps\": 35.0}, {\"Loss\": null, \"Steps\": 36.0}, {\"Loss\": null, \"Steps\": 37.0}, {\"Loss\": null, \"Steps\": 38.0}, {\"Loss\": null, \"Steps\": 39.0}, {\"Loss\": null, \"Steps\": 40.0}, {\"Loss\": null, \"Steps\": 41.0}, {\"Loss\": null, \"Steps\": 42.0}, {\"Loss\": null, \"Steps\": 43.0}, {\"Loss\": null, \"Steps\": 44.0}, {\"Loss\": null, \"Steps\": 45.0}, {\"Loss\": null, \"Steps\": 46.0}, {\"Loss\": null, \"Steps\": 47.0}, {\"Loss\": null, \"Steps\": 48.0}, {\"Loss\": null, \"Steps\": 49.0}, {\"Loss\": null, \"Steps\": 50.0}, {\"Loss\": null, \"Steps\": 51.0}, {\"Loss\": null, \"Steps\": 52.0}, {\"Loss\": null, \"Steps\": 53.0}, {\"Loss\": null, \"Steps\": 54.0}, {\"Loss\": null, \"Steps\": 55.0}, {\"Loss\": null, \"Steps\": 56.0}, {\"Loss\": null, \"Steps\": 57.0}, {\"Loss\": null, \"Steps\": 58.0}, {\"Loss\": null, \"Steps\": 59.0}, {\"Loss\": null, \"Steps\": 60.0}, {\"Loss\": null, \"Steps\": 61.0}, {\"Loss\": null, \"Steps\": 62.0}, {\"Loss\": null, \"Steps\": 63.0}, {\"Loss\": null, \"Steps\": 64.0}, {\"Loss\": null, \"Steps\": 65.0}, {\"Loss\": null, \"Steps\": 66.0}, {\"Loss\": null, \"Steps\": 67.0}, {\"Loss\": null, \"Steps\": 68.0}, {\"Loss\": null, \"Steps\": 69.0}, {\"Loss\": null, \"Steps\": 70.0}, {\"Loss\": null, \"Steps\": 71.0}, {\"Loss\": null, \"Steps\": 72.0}, {\"Loss\": null, \"Steps\": 73.0}, {\"Loss\": null, \"Steps\": 74.0}, {\"Loss\": null, \"Steps\": 75.0}, {\"Loss\": null, \"Steps\": 76.0}, {\"Loss\": null, \"Steps\": 77.0}, {\"Loss\": null, \"Steps\": 78.0}, {\"Loss\": null, \"Steps\": 79.0}, {\"Loss\": null, \"Steps\": 80.0}, {\"Loss\": null, \"Steps\": 81.0}, {\"Loss\": null, \"Steps\": 82.0}, {\"Loss\": null, \"Steps\": 83.0}, {\"Loss\": null, \"Steps\": 84.0}, {\"Loss\": null, \"Steps\": 85.0}, {\"Loss\": null, \"Steps\": 86.0}, {\"Loss\": null, \"Steps\": 87.0}, {\"Loss\": null, \"Steps\": 88.0}, {\"Loss\": null, \"Steps\": 89.0}, {\"Loss\": null, \"Steps\": 90.0}, {\"Loss\": null, \"Steps\": 91.0}, {\"Loss\": null, \"Steps\": 92.0}, {\"Loss\": null, \"Steps\": 93.0}, {\"Loss\": null, \"Steps\": 94.0}, {\"Loss\": null, \"Steps\": 95.0}, {\"Loss\": null, \"Steps\": 96.0}, {\"Loss\": null, \"Steps\": 97.0}, {\"Loss\": null, \"Steps\": 98.0}]}}, {\"mode\": \"vega-lite\"});\n",
       "</script>"
      ],
      "text/plain": [
       "alt.Chart(...)"
      ]
     },
     "execution_count": 68,
     "metadata": {},
     "output_type": "execute_result"
    }
   ],
   "source": [
    "\n",
    "\n",
    "def loss(x, crit):\n",
    "    d = x + 3 * 1\n",
    "    predict = torch.FloatTensor([[0, x / d, 1 / d, 1 / d, 1 / d]])\n",
    "    return crit(predict.log(), torch.LongTensor([1])).data\n",
    "\n",
    "\n",
    "def penalization_visualization():\n",
    "    crit = LabelSmoothing(5, 0, 0.1)\n",
    "    loss_data = pd.DataFrame(\n",
    "        {\n",
    "            \"Loss\": [loss(x, crit) for x in range(1, 100)],\n",
    "            \"Steps\": list(range(99)),\n",
    "        }\n",
    "    ).astype(\"float\")\n",
    "\n",
    "    return (\n",
    "        alt.Chart(loss_data)\n",
    "        .mark_line()\n",
    "        .properties(width=350)\n",
    "        .encode(\n",
    "            x=\"Steps\",\n",
    "            y=\"Loss\",\n",
    "        )\n",
    "        .interactive()\n",
    "    )\n",
    "\n",
    "\n",
    "show_example(penalization_visualization)"
   ]
  },
  {
   "cell_type": "markdown",
   "id": "9eb37970",
   "metadata": {
    "id": "67lUqeLXTsqK"
   },
   "source": [
    "# A First  Example\n",
    "\n",
    "> We can begin by trying out a simple copy-task. Given a random set\n",
    "> of input symbols from a small vocabulary, the goal is to generate\n",
    "> back those same symbols."
   ]
  },
  {
   "cell_type": "markdown",
   "id": "18ee6655",
   "metadata": {
    "id": "jJa-89_pTsqK"
   },
   "source": [
    "## Synthetic Data"
   ]
  },
  {
   "cell_type": "code",
   "execution_count": 69,
   "id": "334bdb3f",
   "metadata": {
    "execution": {
     "iopub.execute_input": "2022-05-02T01:25:23.456326Z",
     "iopub.status.busy": "2022-05-02T01:25:23.455411Z",
     "iopub.status.idle": "2022-05-02T01:25:23.457254Z",
     "shell.execute_reply": "2022-05-02T01:25:23.457943Z"
    },
    "id": "g1aTxeqqTsqK"
   },
   "outputs": [],
   "source": [
    "def data_gen(V, batch_size, nbatches):\n",
    "    \"Generate random data for a src-tgt copy task.\"\n",
    "    for i in range(nbatches):\n",
    "        data = torch.randint(1, V, size=(batch_size, 10))\n",
    "        data[:, 0] = 1\n",
    "        src = data.requires_grad_(False).clone().detach()\n",
    "        tgt = data.requires_grad_(False).clone().detach()\n",
    "        yield Batch(src, tgt, 0)"
   ]
  },
  {
   "cell_type": "markdown",
   "id": "33fe4433",
   "metadata": {
    "id": "XTXwD9hUTsqK"
   },
   "source": [
    "## Loss Computation"
   ]
  },
  {
   "cell_type": "code",
   "execution_count": 70,
   "id": "4a88cbe5",
   "metadata": {
    "execution": {
     "iopub.execute_input": "2022-05-02T01:25:23.462842Z",
     "iopub.status.busy": "2022-05-02T01:25:23.461999Z",
     "iopub.status.idle": "2022-05-02T01:25:23.464005Z",
     "shell.execute_reply": "2022-05-02T01:25:23.464702Z"
    },
    "id": "3J8EJm87TsqK"
   },
   "outputs": [],
   "source": [
    "class SimpleLossCompute:\n",
    "    \"A simple loss compute and train function.\"\n",
    "\n",
    "    def __init__(self, generator, criterion):\n",
    "        self.generator = generator\n",
    "        self.criterion = criterion\n",
    "\n",
    "    def __call__(self, x, y, norm):\n",
    "        x = self.generator(x)\n",
    "        sloss = (\n",
    "            self.criterion(\n",
    "                x.contiguous().view(-1, x.size(-1)), y.contiguous().view(-1)\n",
    "            )\n",
    "            / norm\n",
    "        )\n",
    "        return sloss.data * norm, sloss"
   ]
  },
  {
   "cell_type": "markdown",
   "id": "00b7bdc2",
   "metadata": {
    "id": "eDAI7ELUTsqL"
   },
   "source": [
    "## Greedy Decoding"
   ]
  },
  {
   "cell_type": "markdown",
   "id": "958119b5",
   "metadata": {
    "id": "LFkWakplTsqL",
    "lines_to_next_cell": 0,
    "tags": []
   },
   "source": [
    "> This code predicts a translation using greedy decoding for simplicity."
   ]
  },
  {
   "cell_type": "code",
   "execution_count": 71,
   "id": "8426fe69",
   "metadata": {
    "execution": {
     "iopub.execute_input": "2022-05-02T01:25:23.470843Z",
     "iopub.status.busy": "2022-05-02T01:25:23.469910Z",
     "iopub.status.idle": "2022-05-02T01:25:23.471795Z",
     "shell.execute_reply": "2022-05-02T01:25:23.472524Z"
    },
    "id": "N2UOpnT3bIyU",
    "lines_to_next_cell": 2
   },
   "outputs": [],
   "source": [
    "def greedy_decode(model, src, src_mask, max_len, start_symbol):\n",
    "    memory = model.encode(src, src_mask)\n",
    "    ys = torch.zeros(1, 1).fill_(start_symbol).type_as(src.data)\n",
    "    for i in range(max_len - 1):\n",
    "        out = model.decode(\n",
    "            memory, src_mask, ys, subsequent_mask(ys.size(1)).type_as(src.data)\n",
    "        )\n",
    "        prob = model.generator(out[:, -1])\n",
    "        _, next_word = torch.max(prob, dim=1)\n",
    "        next_word = next_word.data[0]\n",
    "        ys = torch.cat(\n",
    "            [ys, torch.zeros(1, 1).type_as(src.data).fill_(next_word)], dim=1\n",
    "        )\n",
    "    return ys"
   ]
  },
  {
   "cell_type": "code",
   "execution_count": 72,
   "id": "6a93be76",
   "metadata": {
    "execution": {
     "iopub.execute_input": "2022-05-02T01:25:23.481831Z",
     "iopub.status.busy": "2022-05-02T01:25:23.480882Z",
     "iopub.status.idle": "2022-05-02T01:25:23.482798Z",
     "shell.execute_reply": "2022-05-02T01:25:23.483742Z"
    },
    "id": "qgIZ2yEtdYwe",
    "lines_to_next_cell": 2,
    "tags": []
   },
   "outputs": [],
   "source": [
    "# Train the simple copy task.\n",
    "\n",
    "\n",
    "def example_simple_model():\n",
    "    V = 11\n",
    "    criterion = LabelSmoothing(size=V, padding_idx=0, smoothing=0.0)\n",
    "    model = make_model(V, V, N=2)\n",
    "\n",
    "    optimizer = torch.optim.Adam(\n",
    "        model.parameters(), lr=0.5, betas=(0.9, 0.98), eps=1e-9\n",
    "    )\n",
    "    lr_scheduler = LambdaLR(\n",
    "        optimizer=optimizer,\n",
    "        lr_lambda=lambda step: rate(\n",
    "            step, model_size=model.src_embed[0].d_model, factor=1.0, warmup=400\n",
    "        ),\n",
    "    )\n",
    "\n",
    "    batch_size = 80\n",
    "    for epoch in range(20):\n",
    "        model.train()\n",
    "        run_epoch(\n",
    "            data_gen(V, batch_size, 20),\n",
    "            model,\n",
    "            SimpleLossCompute(model.generator, criterion),\n",
    "            optimizer,\n",
    "            lr_scheduler,\n",
    "            mode=\"train\",\n",
    "        )\n",
    "        model.eval()\n",
    "        run_epoch(\n",
    "            data_gen(V, batch_size, 5),\n",
    "            model,\n",
    "            SimpleLossCompute(model.generator, criterion),\n",
    "            DummyOptimizer(),\n",
    "            DummyScheduler(),\n",
    "            mode=\"eval\",\n",
    "        )[0]\n",
    "\n",
    "    model.eval()\n",
    "    src = torch.LongTensor([[0, 1, 2, 3, 4, 5, 6, 7, 8, 9]])\n",
    "    max_len = src.shape[1]\n",
    "    src_mask = torch.ones(1, 1, max_len)\n",
    "    print(greedy_decode(model, src, src_mask, max_len=max_len, start_symbol=0))\n",
    "\n",
    "\n",
    "# execute_example(example_simple_model)"
   ]
  },
  {
   "cell_type": "markdown",
   "id": "9a439ef0",
   "metadata": {
    "id": "OpuQv2GsTsqL"
   },
   "source": [
    "# Part 3: A Real World Example\n",
    "\n",
    "> Now we consider a real-world example using the Multi30k\n",
    "> German-English Translation task. This task is much smaller than\n",
    "> the WMT task considered in the paper, but it illustrates the whole\n",
    "> system. We also show how to use multi-gpu processing to make it\n",
    "> really fast."
   ]
  },
  {
   "cell_type": "markdown",
   "id": "1ceb7001",
   "metadata": {
    "id": "8y9dpfolTsqL",
    "tags": []
   },
   "source": [
    "## Data Loading\n",
    "\n",
    "> We will load the dataset using torchtext and spacy for\n",
    "> tokenization."
   ]
  },
  {
   "cell_type": "code",
   "execution_count": 73,
   "id": "9c3a83e3",
   "metadata": {
    "execution": {
     "iopub.execute_input": "2022-05-02T01:25:23.491667Z",
     "iopub.status.busy": "2022-05-02T01:25:23.490728Z",
     "iopub.status.idle": "2022-05-02T01:25:23.492689Z",
     "shell.execute_reply": "2022-05-02T01:25:23.493407Z"
    }
   },
   "outputs": [],
   "source": [
    "# Load spacy tokenizer models, download them if they haven't been\n",
    "# downloaded already\n",
    "\n",
    "\n",
    "def load_tokenizers():\n",
    "\n",
    "    try:\n",
    "        spacy_de = spacy.load(\"de_core_news_sm\")\n",
    "    except IOError:\n",
    "        os.system(\"python -m spacy download de_core_news_sm\")\n",
    "        spacy_de = spacy.load(\"de_core_news_sm\")\n",
    "\n",
    "    try:\n",
    "        spacy_en = spacy.load(\"en_core_web_sm\")\n",
    "    except IOError:\n",
    "        os.system(\"python -m spacy download en_core_web_sm\")\n",
    "        spacy_en = spacy.load(\"en_core_web_sm\")\n",
    "\n",
    "    return spacy_de, spacy_en"
   ]
  },
  {
   "cell_type": "code",
   "execution_count": 74,
   "id": "6092be4f",
   "metadata": {
    "execution": {
     "iopub.execute_input": "2022-05-02T01:25:23.500603Z",
     "iopub.status.busy": "2022-05-02T01:25:23.499698Z",
     "iopub.status.idle": "2022-05-02T01:25:23.502449Z",
     "shell.execute_reply": "2022-05-02T01:25:23.501724Z"
    },
    "id": "t4BszXXJTsqL",
    "lines_to_next_cell": 2,
    "tags": []
   },
   "outputs": [],
   "source": [
    "def tokenize(text, tokenizer):\n",
    "    return [tok.text for tok in tokenizer.tokenizer(text)]\n",
    "\n",
    "\n",
    "def yield_tokens(data_iter, tokenizer, index):\n",
    "    for from_to_tuple in data_iter:\n",
    "        yield tokenizer(from_to_tuple[index])"
   ]
  },
  {
   "cell_type": "code",
   "execution_count": 77,
   "id": "64878fb2",
   "metadata": {
    "execution": {
     "iopub.execute_input": "2022-05-02T01:25:23.516475Z",
     "iopub.status.busy": "2022-05-02T01:25:23.515578Z",
     "iopub.status.idle": "2022-05-02T01:25:25.130885Z",
     "shell.execute_reply": "2022-05-02T01:25:25.130120Z"
    },
    "id": "jU3kVlV5okC-",
    "tags": []
   },
   "outputs": [
    {
     "name": "stdout",
     "output_type": "stream",
     "text": [
      "Building German Vocabulary ...\n",
      "Unexpected exception formatting exception. Falling back to standard exception\n"
     ]
    },
    {
     "name": "stderr",
     "output_type": "stream",
     "text": [
      "Traceback (most recent call last):\n",
      "  File \"/Users/allanjs88/Documents/src/transformer/env/lib/python3.11/site-packages/IPython/core/interactiveshell.py\", line 3548, in run_code\n",
      "  File \"/var/folders/hb/gp8cxt7x24s9p16zy2y2pnjc0000gn/T/ipykernel_25063/2393618745.py\", line 45, in <module>\n",
      "    vocab_src, vocab_tgt = show_example(load_vocab, args=[spacy_de, spacy_en])\n",
      "                           ^^^^^^^^^^^^^^^^^^^^^^^^^^^^^^^^^^^^^^^^^^^^^^^^^^^\n",
      "  File \"/var/folders/hb/gp8cxt7x24s9p16zy2y2pnjc0000gn/T/ipykernel_25063/1650619497.py\", line 7, in show_example\n",
      "    return fn(*args)\n",
      "           ^^^^^^^^^\n",
      "  File \"/var/folders/hb/gp8cxt7x24s9p16zy2y2pnjc0000gn/T/ipykernel_25063/2393618745.py\", line 32, in load_vocab\n",
      "    vocab_src, vocab_tgt = build_vocabulary(spacy_de, spacy_en)\n",
      "                           ^^^^^^^^^^^^^^^^^^^^^^^^^^^^^^^^^^^^\n",
      "  File \"/var/folders/hb/gp8cxt7x24s9p16zy2y2pnjc0000gn/T/ipykernel_25063/2393618745.py\", line 10, in build_vocabulary\n",
      "    vocab_src = build_vocab_from_iterator(\n",
      "                ^^^^^^^^^^^^^^^^^^^^^^^^^^\n",
      "  File \"/Users/allanjs88/Documents/src/transformer/env/lib/python3.11/site-packages/torchtext/vocab/vocab_factory.py\", line 98, in build_vocab_from_iterator\n",
      "    for tokens in iterator:\n",
      "  File \"/var/folders/hb/gp8cxt7x24s9p16zy2y2pnjc0000gn/T/ipykernel_25063/1801411546.py\", line 6, in yield_tokens\n",
      "    for from_to_tuple in data_iter:\n",
      "  File \"/Users/allanjs88/Documents/src/transformer/env/lib/python3.11/site-packages/torch/utils/data/dataset.py\", line 328, in __iter__\n",
      "    yield from d\n",
      "  File \"/Users/allanjs88/Documents/src/transformer/env/lib/python3.11/site-packages/torch/utils/data/dataset.py\", line 328, in __iter__\n",
      "    yield from d\n",
      "  File \"/Users/allanjs88/Documents/src/transformer/env/lib/python3.11/site-packages/torch/utils/data/datapipes/_hook_iterator.py\", line 183, in wrap_generator\n",
      "    response = gen.send(None)\n",
      "               ^^^^^^^^^^^^^^\n",
      "  File \"/Users/allanjs88/Documents/src/transformer/env/lib/python3.11/site-packages/torch/utils/data/datapipes/iter/sharding.py\", line 75, in __iter__\n",
      "    for i, item in enumerate(self.source_datapipe):\n",
      "  File \"/Users/allanjs88/Documents/src/transformer/env/lib/python3.11/site-packages/torch/utils/data/datapipes/_hook_iterator.py\", line 183, in wrap_generator\n",
      "    response = gen.send(None)\n",
      "               ^^^^^^^^^^^^^^\n",
      "  File \"/Users/allanjs88/Documents/src/transformer/env/lib/python3.11/site-packages/torch/utils/data/datapipes/iter/combinatorics.py\", line 124, in __iter__\n",
      "    yield from self.datapipe\n",
      "  File \"/Users/allanjs88/Documents/src/transformer/env/lib/python3.11/site-packages/torch/utils/data/datapipes/_hook_iterator.py\", line 183, in wrap_generator\n",
      "    response = gen.send(None)\n",
      "               ^^^^^^^^^^^^^^\n",
      "  File \"/Users/allanjs88/Documents/src/transformer/env/lib/python3.11/site-packages/torch/utils/data/datapipes/iter/combining.py\", line 624, in __iter__\n",
      "    yield from zip(*iterators)\n",
      "  File \"/Users/allanjs88/Documents/src/transformer/env/lib/python3.11/site-packages/torch/utils/data/datapipes/_hook_iterator.py\", line 183, in wrap_generator\n",
      "    response = gen.send(None)\n",
      "               ^^^^^^^^^^^^^^\n",
      "  File \"/Users/allanjs88/Documents/src/transformer/env/lib/python3.11/site-packages/torchdata/datapipes/iter/util/plain_text_reader.py\", line 134, in __iter__\n",
      "    for path, file in self.source_datapipe:\n",
      "  File \"/Users/allanjs88/Documents/src/transformer/env/lib/python3.11/site-packages/torch/utils/data/datapipes/_hook_iterator.py\", line 183, in wrap_generator\n",
      "    response = gen.send(None)\n",
      "               ^^^^^^^^^^^^^^\n",
      "  File \"/Users/allanjs88/Documents/src/transformer/env/lib/python3.11/site-packages/torch/utils/data/datapipes/iter/fileopener.py\", line 67, in __iter__\n",
      "    yield from get_file_binaries_from_pathnames(self.datapipe, self.mode, self.encoding)\n",
      "  File \"/Users/allanjs88/Documents/src/transformer/env/lib/python3.11/site-packages/torch/utils/data/datapipes/utils/common.py\", line 214, in get_file_binaries_from_pathnames\n",
      "    for pathname in pathnames:\n",
      "  File \"/Users/allanjs88/Documents/src/transformer/env/lib/python3.11/site-packages/torch/utils/data/datapipes/_hook_iterator.py\", line 183, in wrap_generator\n",
      "    response = gen.send(None)\n",
      "               ^^^^^^^^^^^^^^\n",
      "  File \"/Users/allanjs88/Documents/src/transformer/env/lib/python3.11/site-packages/torch/utils/data/datapipes/iter/combining.py\", line 53, in __iter__\n",
      "    yield from dp\n",
      "  File \"/Users/allanjs88/Documents/src/transformer/env/lib/python3.11/site-packages/torch/utils/data/datapipes/_hook_iterator.py\", line 183, in wrap_generator\n",
      "    response = gen.send(None)\n",
      "               ^^^^^^^^^^^^^^\n",
      "  File \"/Users/allanjs88/Documents/src/transformer/env/lib/python3.11/site-packages/torch/utils/data/datapipes/iter/combining.py\", line 53, in __iter__\n",
      "    yield from dp\n",
      "  File \"/Users/allanjs88/Documents/src/transformer/env/lib/python3.11/site-packages/torch/utils/data/datapipes/_hook_iterator.py\", line 183, in wrap_generator\n",
      "    response = gen.send(None)\n",
      "               ^^^^^^^^^^^^^^\n",
      "  File \"/Users/allanjs88/Documents/src/transformer/env/lib/python3.11/site-packages/torchdata/datapipes/iter/util/cacheholder.py\", line 455, in __iter__\n",
      "    for filename in self.source_datapipe:\n",
      "  File \"/Users/allanjs88/Documents/src/transformer/env/lib/python3.11/site-packages/torch/utils/data/datapipes/_hook_iterator.py\", line 183, in wrap_generator\n",
      "    response = gen.send(None)\n",
      "               ^^^^^^^^^^^^^^\n",
      "  File \"/Users/allanjs88/Documents/src/transformer/env/lib/python3.11/site-packages/torchdata/datapipes/iter/util/saver.py\", line 53, in __iter__\n",
      "    for filepath, data in self.source_datapipe:\n",
      "  File \"/Users/allanjs88/Documents/src/transformer/env/lib/python3.11/site-packages/torch/utils/data/datapipes/_hook_iterator.py\", line 183, in wrap_generator\n",
      "    response = gen.send(None)\n",
      "               ^^^^^^^^^^^^^^\n",
      "  File \"/Users/allanjs88/Documents/src/transformer/env/lib/python3.11/site-packages/torch/utils/data/datapipes/iter/callable.py\", line 122, in __iter__\n",
      "    for data in self.datapipe:\n",
      "  File \"/Users/allanjs88/Documents/src/transformer/env/lib/python3.11/site-packages/torch/utils/data/datapipes/_hook_iterator.py\", line 183, in wrap_generator\n",
      "    response = gen.send(None)\n",
      "               ^^^^^^^^^^^^^^\n",
      "  File \"/Users/allanjs88/Documents/src/transformer/env/lib/python3.11/site-packages/torch/utils/data/datapipes/iter/callable.py\", line 122, in __iter__\n",
      "    for data in self.datapipe:\n",
      "  File \"/Users/allanjs88/Documents/src/transformer/env/lib/python3.11/site-packages/torch/utils/data/datapipes/_hook_iterator.py\", line 183, in wrap_generator\n",
      "    response = gen.send(None)\n",
      "               ^^^^^^^^^^^^^^\n",
      "  File \"/Users/allanjs88/Documents/src/transformer/env/lib/python3.11/site-packages/torch/utils/data/datapipes/iter/selecting.py\", line 71, in __iter__\n",
      "    for data in self.datapipe:\n",
      "  File \"/Users/allanjs88/Documents/src/transformer/env/lib/python3.11/site-packages/torch/utils/data/datapipes/_hook_iterator.py\", line 183, in wrap_generator\n",
      "    response = gen.send(None)\n",
      "               ^^^^^^^^^^^^^^\n",
      "  File \"/Users/allanjs88/Documents/src/transformer/env/lib/python3.11/site-packages/torchdata/datapipes/iter/util/tararchiveloader.py\", line 54, in __iter__\n",
      "    for data in self.datapipe:\n",
      "  File \"/Users/allanjs88/Documents/src/transformer/env/lib/python3.11/site-packages/torch/utils/data/datapipes/_hook_iterator.py\", line 183, in wrap_generator\n",
      "    response = gen.send(None)\n",
      "               ^^^^^^^^^^^^^^\n",
      "  File \"/Users/allanjs88/Documents/src/transformer/env/lib/python3.11/site-packages/torch/utils/data/datapipes/iter/fileopener.py\", line 67, in __iter__\n",
      "    yield from get_file_binaries_from_pathnames(self.datapipe, self.mode, self.encoding)\n",
      "  File \"/Users/allanjs88/Documents/src/transformer/env/lib/python3.11/site-packages/torch/utils/data/datapipes/utils/common.py\", line 214, in get_file_binaries_from_pathnames\n",
      "    for pathname in pathnames:\n",
      "  File \"/Users/allanjs88/Documents/src/transformer/env/lib/python3.11/site-packages/torch/utils/data/datapipes/_hook_iterator.py\", line 183, in wrap_generator\n",
      "    response = gen.send(None)\n",
      "               ^^^^^^^^^^^^^^\n",
      "  File \"/Users/allanjs88/Documents/src/transformer/env/lib/python3.11/site-packages/torchdata/datapipes/iter/util/cacheholder.py\", line 230, in __iter__\n",
      "    yield from self.source_datapipe\n",
      "  File \"/Users/allanjs88/Documents/src/transformer/env/lib/python3.11/site-packages/torch/utils/data/datapipes/_hook_iterator.py\", line 183, in wrap_generator\n",
      "    response = gen.send(None)\n",
      "               ^^^^^^^^^^^^^^\n",
      "  File \"/Users/allanjs88/Documents/src/transformer/env/lib/python3.11/site-packages/torchdata/datapipes/iter/util/cacheholder.py\", line 375, in __iter__\n",
      "    for item in self.source_datapipe:\n",
      "  File \"/Users/allanjs88/Documents/src/transformer/env/lib/python3.11/site-packages/torch/utils/data/datapipes/_hook_iterator.py\", line 154, in __next__\n",
      "    return self._get_next()\n",
      "           ^^^^^^^^^^^^^^^^\n",
      "  File \"/Users/allanjs88/Documents/src/transformer/env/lib/python3.11/site-packages/torch/utils/data/datapipes/_hook_iterator.py\", line 142, in _get_next\n",
      "    result = next(self.iterator)\n",
      "             ^^^^^^^^^^^^^^^^^^^\n",
      "  File \"/Users/allanjs88/Documents/src/transformer/env/lib/python3.11/site-packages/torch/utils/data/datapipes/iter/combining.py\", line 463, in get_next_element_by_instance\n",
      "    yield self._find_next(instance_id)\n",
      "          ^^^^^^^^^^^^^^^^^^^^^^^^^^^^\n",
      "  File \"/Users/allanjs88/Documents/src/transformer/env/lib/python3.11/site-packages/torch/utils/data/datapipes/iter/combining.py\", line 432, in _find_next\n",
      "    value = next(self._datapipe_iterator)\n",
      "            ^^^^^^^^^^^^^^^^^^^^^^^^^^^^^\n",
      "  File \"/Users/allanjs88/Documents/src/transformer/env/lib/python3.11/site-packages/torch/utils/data/datapipes/_hook_iterator.py\", line 154, in __next__\n",
      "    return self._get_next()\n",
      "           ^^^^^^^^^^^^^^^^\n",
      "  File \"/Users/allanjs88/Documents/src/transformer/env/lib/python3.11/site-packages/torch/utils/data/datapipes/_hook_iterator.py\", line 142, in _get_next\n",
      "    result = next(self.iterator)\n",
      "             ^^^^^^^^^^^^^^^^^^^\n",
      "  File \"/Users/allanjs88/Documents/src/transformer/env/lib/python3.11/site-packages/torch/utils/data/datapipes/iter/combining.py\", line 196, in get_next_element_by_instance\n",
      "    return_val = next(self._datapipe_iterator)  # type: ignore[arg-type]\n",
      "                 ^^^^^^^^^^^^^^^^^^^^^^^^^^^^^\n",
      "  File \"/Users/allanjs88/Documents/src/transformer/env/lib/python3.11/site-packages/torch/utils/data/datapipes/_hook_iterator.py\", line 183, in wrap_generator\n",
      "    response = gen.send(None)\n",
      "               ^^^^^^^^^^^^^^\n",
      "  File \"/Users/allanjs88/Documents/src/transformer/env/lib/python3.11/site-packages/torch/utils/data/datapipes/iter/combining.py\", line 53, in __iter__\n",
      "    yield from dp\n",
      "  File \"/Users/allanjs88/Documents/src/transformer/env/lib/python3.11/site-packages/torch/utils/data/datapipes/_hook_iterator.py\", line 183, in wrap_generator\n",
      "    response = gen.send(None)\n",
      "               ^^^^^^^^^^^^^^\n",
      "  File \"/Users/allanjs88/Documents/src/transformer/env/lib/python3.11/site-packages/torch/utils/data/datapipes/iter/combining.py\", line 53, in __iter__\n",
      "    yield from dp\n",
      "  File \"/Users/allanjs88/Documents/src/transformer/env/lib/python3.11/site-packages/torch/utils/data/datapipes/_hook_iterator.py\", line 183, in wrap_generator\n",
      "    response = gen.send(None)\n",
      "               ^^^^^^^^^^^^^^\n",
      "  File \"/Users/allanjs88/Documents/src/transformer/env/lib/python3.11/site-packages/torchdata/datapipes/iter/util/cacheholder.py\", line 455, in __iter__\n",
      "    for filename in self.source_datapipe:\n",
      "  File \"/Users/allanjs88/Documents/src/transformer/env/lib/python3.11/site-packages/torch/utils/data/datapipes/_hook_iterator.py\", line 183, in wrap_generator\n",
      "    response = gen.send(None)\n",
      "               ^^^^^^^^^^^^^^\n",
      "  File \"/Users/allanjs88/Documents/src/transformer/env/lib/python3.11/site-packages/torchdata/datapipes/iter/util/saver.py\", line 53, in __iter__\n",
      "    for filepath, data in self.source_datapipe:\n",
      "  File \"/Users/allanjs88/Documents/src/transformer/env/lib/python3.11/site-packages/torch/utils/data/datapipes/_hook_iterator.py\", line 183, in wrap_generator\n",
      "    response = gen.send(None)\n",
      "               ^^^^^^^^^^^^^^\n",
      "  File \"/Users/allanjs88/Documents/src/transformer/env/lib/python3.11/site-packages/torchdata/datapipes/iter/util/hashchecker.py\", line 67, in __iter__\n",
      "    for file_name, data in self.source_datapipe:\n",
      "  File \"/Users/allanjs88/Documents/src/transformer/env/lib/python3.11/site-packages/torch/utils/data/datapipes/_hook_iterator.py\", line 183, in wrap_generator\n",
      "    response = gen.send(None)\n",
      "               ^^^^^^^^^^^^^^\n",
      "  File \"/Users/allanjs88/Documents/src/transformer/env/lib/python3.11/site-packages/torch/utils/data/datapipes/iter/callable.py\", line 122, in __iter__\n",
      "    for data in self.datapipe:\n",
      "  File \"/Users/allanjs88/Documents/src/transformer/env/lib/python3.11/site-packages/torch/utils/data/datapipes/_hook_iterator.py\", line 183, in wrap_generator\n",
      "    response = gen.send(None)\n",
      "               ^^^^^^^^^^^^^^\n",
      "  File \"/Users/allanjs88/Documents/src/transformer/env/lib/python3.11/site-packages/torch/utils/data/datapipes/iter/callable.py\", line 122, in __iter__\n",
      "    for data in self.datapipe:\n",
      "  File \"/Users/allanjs88/Documents/src/transformer/env/lib/python3.11/site-packages/torch/utils/data/datapipes/_hook_iterator.py\", line 183, in wrap_generator\n",
      "    response = gen.send(None)\n",
      "               ^^^^^^^^^^^^^^\n",
      "  File \"/Users/allanjs88/Documents/src/transformer/env/lib/python3.11/site-packages/torchdata/datapipes/iter/load/online.py\", line 91, in __iter__\n",
      "    for url in self.source_datapipe:\n",
      "  File \"/Users/allanjs88/Documents/src/transformer/env/lib/python3.11/site-packages/torch/utils/data/datapipes/_hook_iterator.py\", line 183, in wrap_generator\n",
      "    response = gen.send(None)\n",
      "               ^^^^^^^^^^^^^^\n",
      "  File \"/Users/allanjs88/Documents/src/transformer/env/lib/python3.11/site-packages/torchdata/datapipes/iter/util/cacheholder.py\", line 230, in __iter__\n",
      "    yield from self.source_datapipe\n",
      "  File \"/Users/allanjs88/Documents/src/transformer/env/lib/python3.11/site-packages/torch/utils/data/datapipes/_hook_iterator.py\", line 183, in wrap_generator\n",
      "    response = gen.send(None)\n",
      "               ^^^^^^^^^^^^^^\n",
      "  File \"/Users/allanjs88/Documents/src/transformer/env/lib/python3.11/site-packages/torchdata/datapipes/iter/util/cacheholder.py\", line 375, in __iter__\n",
      "    for item in self.source_datapipe:\n",
      "  File \"/Users/allanjs88/Documents/src/transformer/env/lib/python3.11/site-packages/torch/utils/data/datapipes/_hook_iterator.py\", line 154, in __next__\n",
      "    return self._get_next()\n",
      "           ^^^^^^^^^^^^^^^^\n",
      "  File \"/Users/allanjs88/Documents/src/transformer/env/lib/python3.11/site-packages/torch/utils/data/datapipes/_hook_iterator.py\", line 142, in _get_next\n",
      "    result = next(self.iterator)\n",
      "             ^^^^^^^^^^^^^^^^^^^\n",
      "  File \"/Users/allanjs88/Documents/src/transformer/env/lib/python3.11/site-packages/torch/utils/data/datapipes/iter/combining.py\", line 463, in get_next_element_by_instance\n",
      "    yield self._find_next(instance_id)\n",
      "          ^^^^^^^^^^^^^^^^^^^^^^^^^^^^\n",
      "  File \"/Users/allanjs88/Documents/src/transformer/env/lib/python3.11/site-packages/torch/utils/data/datapipes/iter/combining.py\", line 433, in _find_next\n",
      "    classification = self.classifier_fn(value)\n",
      "                     ^^^^^^^^^^^^^^^^^^^^^^^^^\n",
      "  File \"/Users/allanjs88/Documents/src/transformer/env/lib/python3.11/site-packages/torchdata/datapipes/iter/util/cacheholder.py\", line 263, in _cache_check_fn\n",
      "    with portalocker.Lock(promise_filepath, \"a+\", flags=portalocker.LockFlags.EXCLUSIVE) as promise_fh:\n",
      "         ^^^^^^^^^^^^^^^^\n",
      "AttributeError: 'NoneType' object has no attribute 'Lock'\n",
      "This exception is thrown by __iter__ of _MemoryCellIterDataPipe(remember_elements=1000, source_datapipe=_ChildDataPipe)\n",
      "\n",
      "During handling of the above exception, another exception occurred:\n",
      "\n",
      "Traceback (most recent call last):\n",
      "  File \"/Users/allanjs88/Documents/src/transformer/env/lib/python3.11/site-packages/pygments/styles/__init__.py\", line 45, in get_style_by_name\n",
      "ModuleNotFoundError: No module named 'pygments.styles.default'\n",
      "\n",
      "During handling of the above exception, another exception occurred:\n",
      "\n",
      "Traceback (most recent call last):\n",
      "  File \"/Users/allanjs88/Documents/src/transformer/env/lib/python3.11/site-packages/IPython/core/interactiveshell.py\", line 2142, in showtraceback\n",
      "  File \"/Users/allanjs88/Documents/src/transformer/env/lib/python3.11/site-packages/IPython/core/ultratb.py\", line 1435, in structured_traceback\n",
      "  File \"/Users/allanjs88/Documents/src/transformer/env/lib/python3.11/site-packages/IPython/core/ultratb.py\", line 1326, in structured_traceback\n",
      "  File \"/Users/allanjs88/Documents/src/transformer/env/lib/python3.11/site-packages/IPython/core/ultratb.py\", line 1173, in structured_traceback\n",
      "  File \"/Users/allanjs88/Documents/src/transformer/env/lib/python3.11/site-packages/IPython/core/ultratb.py\", line 1063, in format_exception_as_a_whole\n",
      "  File \"/Users/allanjs88/Documents/src/transformer/env/lib/python3.11/site-packages/IPython/core/ultratb.py\", line 1114, in get_records\n",
      "  File \"/Users/allanjs88/Documents/src/transformer/env/lib/python3.11/site-packages/pygments/styles/__init__.py\", line 47, in get_style_by_name\n",
      "pygments.util.ClassNotFound: Could not find style module 'pygments.styles.default', though it should be builtin.\n"
     ]
    }
   ],
   "source": [
    "\n",
    "\n",
    "def build_vocabulary(spacy_de, spacy_en):\n",
    "    def tokenize_de(text):\n",
    "        return tokenize(text, spacy_de)\n",
    "\n",
    "    def tokenize_en(text):\n",
    "        return tokenize(text, spacy_en)\n",
    "\n",
    "    print(\"Building German Vocabulary ...\")\n",
    "    train, val, test = datasets.Multi30k(language_pair=(\"de\", \"en\"))\n",
    "    vocab_src = build_vocab_from_iterator(\n",
    "        yield_tokens(train + val + test, tokenize_de, index=0),\n",
    "        min_freq=2,\n",
    "        specials=[\"<s>\", \"</s>\", \"<blank>\", \"<unk>\"],\n",
    "    )\n",
    "\n",
    "    print(\"Building English Vocabulary ...\")\n",
    "    train, val, test = datasets.Multi30k(language_pair=(\"de\", \"en\"))\n",
    "    vocab_tgt = build_vocab_from_iterator(\n",
    "        yield_tokens(train + val + test, tokenize_en, index=1),\n",
    "        min_freq=2,\n",
    "        specials=[\"<s>\", \"</s>\", \"<blank>\", \"<unk>\"],\n",
    "    )\n",
    "\n",
    "    vocab_src.set_default_index(vocab_src[\"<unk>\"])\n",
    "    vocab_tgt.set_default_index(vocab_tgt[\"<unk>\"])\n",
    "\n",
    "    return vocab_src, vocab_tgt\n",
    "\n",
    "\n",
    "def load_vocab(spacy_de, spacy_en):\n",
    "    if not exists(\"vocab.pt\"):\n",
    "        vocab_src, vocab_tgt = build_vocabulary(spacy_de, spacy_en)\n",
    "        torch.save((vocab_src, vocab_tgt), \"vocab.pt\")\n",
    "    else:\n",
    "        vocab_src, vocab_tgt = torch.load(\"vocab.pt\")\n",
    "    print(\"Finished.\\nVocabulary sizes:\")\n",
    "    print(len(vocab_src))\n",
    "    print(len(vocab_tgt))\n",
    "    return vocab_src, vocab_tgt\n",
    "\n",
    "\n",
    "if is_interactive_notebook():\n",
    "    # global variables used later in the script\n",
    "    spacy_de, spacy_en = show_example(load_tokenizers)\n",
    "    vocab_src, vocab_tgt = show_example(load_vocab, args=[spacy_de, spacy_en])"
   ]
  },
  {
   "cell_type": "markdown",
   "id": "8aa07c06",
   "metadata": {
    "id": "-l-TFwzfTsqL"
   },
   "source": [
    "\n",
    "> Batching matters a ton for speed. We want to have very evenly\n",
    "> divided batches, with absolutely minimal padding. To do this we\n",
    "> have to hack a bit around the default torchtext batching. This\n",
    "> code patches their default batching to make sure we search over\n",
    "> enough sentences to find tight batches."
   ]
  },
  {
   "cell_type": "markdown",
   "id": "f57752f8",
   "metadata": {
    "incorrectly_encoded_metadata": "id=\"kDEj-hCgokC-\" tags=[] jp-MarkdownHeadingCollapsed=true"
   },
   "source": [
    "## Iterators"
   ]
  },
  {
   "cell_type": "code",
   "execution_count": null,
   "id": "33350048",
   "metadata": {
    "execution": {
     "iopub.execute_input": "2022-05-02T01:25:25.144310Z",
     "iopub.status.busy": "2022-05-02T01:25:25.143931Z",
     "iopub.status.idle": "2022-05-02T01:25:25.146354Z",
     "shell.execute_reply": "2022-05-02T01:25:25.146629Z"
    },
    "id": "wGsIHFgOokC_",
    "tags": []
   },
   "outputs": [],
   "source": [
    "def collate_batch(\n",
    "    batch,\n",
    "    src_pipeline,\n",
    "    tgt_pipeline,\n",
    "    src_vocab,\n",
    "    tgt_vocab,\n",
    "    device,\n",
    "    max_padding=128,\n",
    "    pad_id=2,\n",
    "):\n",
    "    bs_id = torch.tensor([0], device=device)  # <s> token id\n",
    "    eos_id = torch.tensor([1], device=device)  # </s> token id\n",
    "    src_list, tgt_list = [], []\n",
    "    for (_src, _tgt) in batch:\n",
    "        processed_src = torch.cat(\n",
    "            [\n",
    "                bs_id,\n",
    "                torch.tensor(\n",
    "                    src_vocab(src_pipeline(_src)),\n",
    "                    dtype=torch.int64,\n",
    "                    device=device,\n",
    "                ),\n",
    "                eos_id,\n",
    "            ],\n",
    "            0,\n",
    "        )\n",
    "        processed_tgt = torch.cat(\n",
    "            [\n",
    "                bs_id,\n",
    "                torch.tensor(\n",
    "                    tgt_vocab(tgt_pipeline(_tgt)),\n",
    "                    dtype=torch.int64,\n",
    "                    device=device,\n",
    "                ),\n",
    "                eos_id,\n",
    "            ],\n",
    "            0,\n",
    "        )\n",
    "        src_list.append(\n",
    "            # warning - overwrites values for negative values of padding - len\n",
    "            pad(\n",
    "                processed_src,\n",
    "                (\n",
    "                    0,\n",
    "                    max_padding - len(processed_src),\n",
    "                ),\n",
    "                value=pad_id,\n",
    "            )\n",
    "        )\n",
    "        tgt_list.append(\n",
    "            pad(\n",
    "                processed_tgt,\n",
    "                (0, max_padding - len(processed_tgt)),\n",
    "                value=pad_id,\n",
    "            )\n",
    "        )\n",
    "\n",
    "    src = torch.stack(src_list)\n",
    "    tgt = torch.stack(tgt_list)\n",
    "    return (src, tgt)"
   ]
  },
  {
   "cell_type": "code",
   "execution_count": null,
   "id": "3d94df2f",
   "metadata": {
    "execution": {
     "iopub.execute_input": "2022-05-02T01:25:25.158739Z",
     "iopub.status.busy": "2022-05-02T01:25:25.158133Z",
     "iopub.status.idle": "2022-05-02T01:25:25.160905Z",
     "shell.execute_reply": "2022-05-02T01:25:25.160371Z"
    },
    "id": "ka2Ce_WIokC_",
    "tags": []
   },
   "outputs": [],
   "source": [
    "def create_dataloaders(\n",
    "    device,\n",
    "    vocab_src,\n",
    "    vocab_tgt,\n",
    "    spacy_de,\n",
    "    spacy_en,\n",
    "    batch_size=12000,\n",
    "    max_padding=128,\n",
    "    is_distributed=True,\n",
    "):\n",
    "    # def create_dataloaders(batch_size=12000):\n",
    "    def tokenize_de(text):\n",
    "        return tokenize(text, spacy_de)\n",
    "\n",
    "    def tokenize_en(text):\n",
    "        return tokenize(text, spacy_en)\n",
    "\n",
    "    def collate_fn(batch):\n",
    "        return collate_batch(\n",
    "            batch,\n",
    "            tokenize_de,\n",
    "            tokenize_en,\n",
    "            vocab_src,\n",
    "            vocab_tgt,\n",
    "            device,\n",
    "            max_padding=max_padding,\n",
    "            pad_id=vocab_src.get_stoi()[\"<blank>\"],\n",
    "        )\n",
    "\n",
    "    train_iter, valid_iter, test_iter = datasets.Multi30k(\n",
    "        language_pair=(\"de\", \"en\")\n",
    "    )\n",
    "\n",
    "    train_iter_map = to_map_style_dataset(\n",
    "        train_iter\n",
    "    )  # DistributedSampler needs a dataset len()\n",
    "    train_sampler = (\n",
    "        DistributedSampler(train_iter_map) if is_distributed else None\n",
    "    )\n",
    "    valid_iter_map = to_map_style_dataset(valid_iter)\n",
    "    valid_sampler = (\n",
    "        DistributedSampler(valid_iter_map) if is_distributed else None\n",
    "    )\n",
    "\n",
    "    train_dataloader = DataLoader(\n",
    "        train_iter_map,\n",
    "        batch_size=batch_size,\n",
    "        shuffle=(train_sampler is None),\n",
    "        sampler=train_sampler,\n",
    "        collate_fn=collate_fn,\n",
    "    )\n",
    "    valid_dataloader = DataLoader(\n",
    "        valid_iter_map,\n",
    "        batch_size=batch_size,\n",
    "        shuffle=(valid_sampler is None),\n",
    "        sampler=valid_sampler,\n",
    "        collate_fn=collate_fn,\n",
    "    )\n",
    "    return train_dataloader, valid_dataloader"
   ]
  },
  {
   "cell_type": "markdown",
   "id": "852a5240",
   "metadata": {
    "id": "90qM8RzCTsqM"
   },
   "source": [
    "## Training the System"
   ]
  },
  {
   "cell_type": "code",
   "execution_count": null,
   "id": "1b763750",
   "metadata": {
    "execution": {
     "iopub.execute_input": "2022-05-02T01:25:25.181295Z",
     "iopub.status.busy": "2022-05-02T01:25:25.180613Z",
     "iopub.status.idle": "2022-05-02T01:25:25.183519Z",
     "shell.execute_reply": "2022-05-02T01:25:25.183983Z"
    }
   },
   "outputs": [],
   "source": [
    "def train_worker(\n",
    "    gpu,\n",
    "    ngpus_per_node,\n",
    "    vocab_src,\n",
    "    vocab_tgt,\n",
    "    spacy_de,\n",
    "    spacy_en,\n",
    "    config,\n",
    "    is_distributed=False,\n",
    "):\n",
    "    print(f\"Train worker process using GPU: {gpu} for training\", flush=True)\n",
    "    torch.cuda.set_device(gpu)\n",
    "\n",
    "    pad_idx = vocab_tgt[\"<blank>\"]\n",
    "    d_model = 512\n",
    "    model = make_model(len(vocab_src), len(vocab_tgt), N=6)\n",
    "    model.cuda(gpu)\n",
    "    module = model\n",
    "    is_main_process = True\n",
    "    if is_distributed:\n",
    "        dist.init_process_group(\n",
    "            \"nccl\", init_method=\"env://\", rank=gpu, world_size=ngpus_per_node\n",
    "        )\n",
    "        model = DDP(model, device_ids=[gpu])\n",
    "        module = model.module\n",
    "        is_main_process = gpu == 0\n",
    "\n",
    "    criterion = LabelSmoothing(\n",
    "        size=len(vocab_tgt), padding_idx=pad_idx, smoothing=0.1\n",
    "    )\n",
    "    criterion.cuda(gpu)\n",
    "\n",
    "    train_dataloader, valid_dataloader = create_dataloaders(\n",
    "        gpu,\n",
    "        vocab_src,\n",
    "        vocab_tgt,\n",
    "        spacy_de,\n",
    "        spacy_en,\n",
    "        batch_size=config[\"batch_size\"] // ngpus_per_node,\n",
    "        max_padding=config[\"max_padding\"],\n",
    "        is_distributed=is_distributed,\n",
    "    )\n",
    "\n",
    "    optimizer = torch.optim.Adam(\n",
    "        model.parameters(), lr=config[\"base_lr\"], betas=(0.9, 0.98), eps=1e-9\n",
    "    )\n",
    "    lr_scheduler = LambdaLR(\n",
    "        optimizer=optimizer,\n",
    "        lr_lambda=lambda step: rate(\n",
    "            step, d_model, factor=1, warmup=config[\"warmup\"]\n",
    "        ),\n",
    "    )\n",
    "    train_state = TrainState()\n",
    "\n",
    "    for epoch in range(config[\"num_epochs\"]):\n",
    "        if is_distributed:\n",
    "            train_dataloader.sampler.set_epoch(epoch)\n",
    "            valid_dataloader.sampler.set_epoch(epoch)\n",
    "\n",
    "        model.train()\n",
    "        print(f\"[GPU{gpu}] Epoch {epoch} Training ====\", flush=True)\n",
    "        _, train_state = run_epoch(\n",
    "            (Batch(b[0], b[1], pad_idx) for b in train_dataloader),\n",
    "            model,\n",
    "            SimpleLossCompute(module.generator, criterion),\n",
    "            optimizer,\n",
    "            lr_scheduler,\n",
    "            mode=\"train+log\",\n",
    "            accum_iter=config[\"accum_iter\"],\n",
    "            train_state=train_state,\n",
    "        )\n",
    "\n",
    "        GPUtil.showUtilization()\n",
    "        if is_main_process:\n",
    "            file_path = \"%s%.2d.pt\" % (config[\"file_prefix\"], epoch)\n",
    "            torch.save(module.state_dict(), file_path)\n",
    "        torch.cuda.empty_cache()\n",
    "\n",
    "        print(f\"[GPU{gpu}] Epoch {epoch} Validation ====\", flush=True)\n",
    "        model.eval()\n",
    "        sloss = run_epoch(\n",
    "            (Batch(b[0], b[1], pad_idx) for b in valid_dataloader),\n",
    "            model,\n",
    "            SimpleLossCompute(module.generator, criterion),\n",
    "            DummyOptimizer(),\n",
    "            DummyScheduler(),\n",
    "            mode=\"eval\",\n",
    "        )\n",
    "        print(sloss)\n",
    "        torch.cuda.empty_cache()\n",
    "\n",
    "    if is_main_process:\n",
    "        file_path = \"%sfinal.pt\" % config[\"file_prefix\"]\n",
    "        torch.save(module.state_dict(), file_path)"
   ]
  },
  {
   "cell_type": "code",
   "execution_count": null,
   "id": "e81a913b",
   "metadata": {
    "execution": {
     "iopub.execute_input": "2022-05-02T01:25:25.195835Z",
     "iopub.status.busy": "2022-05-02T01:25:25.194849Z",
     "iopub.status.idle": "2022-05-02T01:25:28.698817Z",
     "shell.execute_reply": "2022-05-02T01:25:28.699555Z"
    },
    "lines_to_next_cell": 2,
    "tags": []
   },
   "outputs": [],
   "source": [
    "def train_distributed_model(vocab_src, vocab_tgt, spacy_de, spacy_en, config):\n",
    "    from the_annotated_transformer import train_worker\n",
    "\n",
    "    ngpus = torch.cuda.device_count()\n",
    "    os.environ[\"MASTER_ADDR\"] = \"localhost\"\n",
    "    os.environ[\"MASTER_PORT\"] = \"12356\"\n",
    "    print(f\"Number of GPUs detected: {ngpus}\")\n",
    "    print(\"Spawning training processes ...\")\n",
    "    mp.spawn(\n",
    "        train_worker,\n",
    "        nprocs=ngpus,\n",
    "        args=(ngpus, vocab_src, vocab_tgt, spacy_de, spacy_en, config, True),\n",
    "    )\n",
    "\n",
    "\n",
    "def train_model(vocab_src, vocab_tgt, spacy_de, spacy_en, config):\n",
    "    if config[\"distributed\"]:\n",
    "        train_distributed_model(\n",
    "            vocab_src, vocab_tgt, spacy_de, spacy_en, config\n",
    "        )\n",
    "    else:\n",
    "        train_worker(\n",
    "            0, 1, vocab_src, vocab_tgt, spacy_de, spacy_en, config, False\n",
    "        )\n",
    "\n",
    "\n",
    "def load_trained_model():\n",
    "    config = {\n",
    "        \"batch_size\": 32,\n",
    "        \"distributed\": False,\n",
    "        \"num_epochs\": 8,\n",
    "        \"accum_iter\": 10,\n",
    "        \"base_lr\": 1.0,\n",
    "        \"max_padding\": 72,\n",
    "        \"warmup\": 3000,\n",
    "        \"file_prefix\": \"multi30k_model_\",\n",
    "    }\n",
    "    model_path = \"multi30k_model_final.pt\"\n",
    "    if not exists(model_path):\n",
    "        train_model(vocab_src, vocab_tgt, spacy_de, spacy_en, config)\n",
    "\n",
    "    model = make_model(len(vocab_src), len(vocab_tgt), N=6)\n",
    "    model.load_state_dict(torch.load(\"multi30k_model_final.pt\"))\n",
    "    return model\n",
    "\n",
    "\n",
    "if is_interactive_notebook():\n",
    "    model = load_trained_model()"
   ]
  },
  {
   "cell_type": "markdown",
   "id": "89c1a1dd",
   "metadata": {
    "id": "RZK_VjDPTsqN"
   },
   "source": [
    "\n",
    "> Once trained we can decode the model to produce a set of\n",
    "> translations. Here we simply translate the first sentence in the\n",
    "> validation set. This dataset is pretty small so the translations\n",
    "> with greedy search are reasonably accurate."
   ]
  },
  {
   "cell_type": "markdown",
   "id": "678f1a78",
   "metadata": {
    "id": "L50i0iEXTsqN"
   },
   "source": [
    "# Additional Components: BPE, Search, Averaging"
   ]
  },
  {
   "cell_type": "markdown",
   "id": "907b7d56",
   "metadata": {
    "id": "NBx1C2_NTsqN"
   },
   "source": [
    "\n",
    "> So this mostly covers the transformer model itself. There are four\n",
    "> aspects that we didn't cover explicitly. We also have all these\n",
    "> additional features implemented in\n",
    "> [OpenNMT-py](https://github.com/opennmt/opennmt-py).\n",
    "\n"
   ]
  },
  {
   "cell_type": "markdown",
   "id": "34851e8d",
   "metadata": {
    "id": "UpqV1mWnTsqN"
   },
   "source": [
    "\n",
    "> 1) BPE/ Word-piece: We can use a library to first preprocess the\n",
    "> data into subword units. See Rico Sennrich's\n",
    "> [subword-nmt](https://github.com/rsennrich/subword-nmt)\n",
    "> implementation. These models will transform the training data to\n",
    "> look like this:"
   ]
  },
  {
   "cell_type": "markdown",
   "id": "ba54e3b3",
   "metadata": {
    "id": "hwJ_9J0BTsqN"
   },
   "source": [
    "▁Die ▁Protokoll datei ▁kann ▁ heimlich ▁per ▁E - Mail ▁oder ▁FTP\n",
    "▁an ▁einen ▁bestimmte n ▁Empfänger ▁gesendet ▁werden ."
   ]
  },
  {
   "cell_type": "markdown",
   "id": "5a547f60",
   "metadata": {
    "id": "9HwejYkpTsqN"
   },
   "source": [
    "\n",
    "> 2) Shared Embeddings: When using BPE with shared vocabulary we can\n",
    "> share the same weight vectors between the source / target /\n",
    "> generator. See the [(cite)](https://arxiv.org/abs/1608.05859) for\n",
    "> details. To add this to the model simply do this:"
   ]
  },
  {
   "cell_type": "code",
   "execution_count": null,
   "id": "ccf619cc",
   "metadata": {
    "execution": {
     "iopub.execute_input": "2022-05-02T01:25:28.707177Z",
     "iopub.status.busy": "2022-05-02T01:25:28.706316Z",
     "iopub.status.idle": "2022-05-02T01:25:28.710001Z",
     "shell.execute_reply": "2022-05-02T01:25:28.710283Z"
    },
    "id": "tb3j3CYLTsqN",
    "tags": []
   },
   "outputs": [],
   "source": [
    "if False:\n",
    "    model.src_embed[0].lut.weight = model.tgt_embeddings[0].lut.weight\n",
    "    model.generator.lut.weight = model.tgt_embed[0].lut.weight"
   ]
  },
  {
   "cell_type": "markdown",
   "id": "925a33d8",
   "metadata": {
    "id": "xDKJsSwRTsqN"
   },
   "source": [
    "\n",
    "> 3) Beam Search: This is a bit too complicated to cover here. See the\n",
    "> [OpenNMT-py](https://github.com/OpenNMT/OpenNMT-py/)\n",
    "> for a pytorch implementation.\n",
    ">\n"
   ]
  },
  {
   "cell_type": "markdown",
   "id": "ca2ec347",
   "metadata": {
    "id": "wf3vVYGZTsqN"
   },
   "source": [
    "\n",
    "> 4) Model Averaging: The paper averages the last k checkpoints to\n",
    "> create an ensembling effect. We can do this after the fact if we\n",
    "> have a bunch of models:"
   ]
  },
  {
   "cell_type": "code",
   "execution_count": null,
   "id": "7733ce32",
   "metadata": {
    "execution": {
     "iopub.execute_input": "2022-05-02T01:25:28.716071Z",
     "iopub.status.busy": "2022-05-02T01:25:28.715714Z",
     "iopub.status.idle": "2022-05-02T01:25:28.718389Z",
     "shell.execute_reply": "2022-05-02T01:25:28.717999Z"
    },
    "id": "hAFEa78JokDB",
    "lines_to_next_cell": 2
   },
   "outputs": [],
   "source": [
    "def average(model, models):\n",
    "    \"Average models into model\"\n",
    "    for ps in zip(*[m.params() for m in [model] + models]):\n",
    "        ps[0].copy_(torch.sum(*ps[1:]) / len(ps[1:]))"
   ]
  },
  {
   "cell_type": "markdown",
   "id": "34f23a5f",
   "metadata": {
    "id": "Kz5BYJ9sTsqO"
   },
   "source": [
    "# Results\n",
    "\n",
    "On the WMT 2014 English-to-German translation task, the big\n",
    "transformer model (Transformer (big) in Table 2) outperforms the\n",
    "best previously reported models (including ensembles) by more than\n",
    "2.0 BLEU, establishing a new state-of-the-art BLEU score of\n",
    "28.4. The configuration of this model is listed in the bottom line\n",
    "of Table 3. Training took 3.5 days on 8 P100 GPUs. Even our base\n",
    "model surpasses all previously published models and ensembles, at a\n",
    "fraction of the training cost of any of the competitive models.\n",
    "\n",
    "On the WMT 2014 English-to-French translation task, our big model\n",
    "achieves a BLEU score of 41.0, outperforming all of the previously\n",
    "published single models, at less than 1/4 the training cost of the\n",
    "previous state-of-the-art model. The Transformer (big) model trained\n",
    "for English-to-French used dropout rate Pdrop = 0.1, instead of 0.3.\n"
   ]
  },
  {
   "cell_type": "markdown",
   "id": "944ff4c2",
   "metadata": {},
   "source": [
    "![](images/results.png)"
   ]
  },
  {
   "cell_type": "markdown",
   "id": "ca35090c",
   "metadata": {
    "id": "cPcnsHvQTsqO"
   },
   "source": [
    "\n",
    "\n",
    "> With the addtional extensions in the last section, the OpenNMT-py\n",
    "> replication gets to 26.9 on EN-DE WMT. Here I have loaded in those\n",
    "> parameters to our reimplemenation."
   ]
  },
  {
   "cell_type": "code",
   "execution_count": null,
   "id": "7377253b",
   "metadata": {
    "execution": {
     "iopub.execute_input": "2022-05-02T01:25:28.722526Z",
     "iopub.status.busy": "2022-05-02T01:25:28.722031Z",
     "iopub.status.idle": "2022-05-02T01:25:28.724231Z",
     "shell.execute_reply": "2022-05-02T01:25:28.723834Z"
    },
    "lines_to_next_cell": 2
   },
   "outputs": [],
   "source": [
    "# Load data and model for output checks"
   ]
  },
  {
   "cell_type": "code",
   "execution_count": null,
   "id": "6deb2571",
   "metadata": {
    "execution": {
     "iopub.execute_input": "2022-05-02T01:25:28.732320Z",
     "iopub.status.busy": "2022-05-02T01:25:28.726845Z",
     "iopub.status.idle": "2022-05-02T01:25:28.742979Z",
     "shell.execute_reply": "2022-05-02T01:25:28.742276Z"
    },
    "lines_to_next_cell": 2
   },
   "outputs": [],
   "source": [
    "def check_outputs(\n",
    "    valid_dataloader,\n",
    "    model,\n",
    "    vocab_src,\n",
    "    vocab_tgt,\n",
    "    n_examples=15,\n",
    "    pad_idx=2,\n",
    "    eos_string=\"</s>\",\n",
    "):\n",
    "    results = [()] * n_examples\n",
    "    for idx in range(n_examples):\n",
    "        print(\"\\nExample %d ========\\n\" % idx)\n",
    "        b = next(iter(valid_dataloader))\n",
    "        rb = Batch(b[0], b[1], pad_idx)\n",
    "        greedy_decode(model, rb.src, rb.src_mask, 64, 0)[0]\n",
    "\n",
    "        src_tokens = [\n",
    "            vocab_src.get_itos()[x] for x in rb.src[0] if x != pad_idx\n",
    "        ]\n",
    "        tgt_tokens = [\n",
    "            vocab_tgt.get_itos()[x] for x in rb.tgt[0] if x != pad_idx\n",
    "        ]\n",
    "\n",
    "        print(\n",
    "            \"Source Text (Input)        : \"\n",
    "            + \" \".join(src_tokens).replace(\"\\n\", \"\")\n",
    "        )\n",
    "        print(\n",
    "            \"Target Text (Ground Truth) : \"\n",
    "            + \" \".join(tgt_tokens).replace(\"\\n\", \"\")\n",
    "        )\n",
    "        model_out = greedy_decode(model, rb.src, rb.src_mask, 72, 0)[0]\n",
    "        model_txt = (\n",
    "            \" \".join(\n",
    "                [vocab_tgt.get_itos()[x] for x in model_out if x != pad_idx]\n",
    "            ).split(eos_string, 1)[0]\n",
    "            + eos_string\n",
    "        )\n",
    "        print(\"Model Output               : \" + model_txt.replace(\"\\n\", \"\"))\n",
    "        results[idx] = (rb, src_tokens, tgt_tokens, model_out, model_txt)\n",
    "    return results\n",
    "\n",
    "\n",
    "def run_model_example(n_examples=5):\n",
    "    global vocab_src, vocab_tgt, spacy_de, spacy_en\n",
    "\n",
    "    print(\"Preparing Data ...\")\n",
    "    _, valid_dataloader = create_dataloaders(\n",
    "        torch.device(\"cpu\"),\n",
    "        vocab_src,\n",
    "        vocab_tgt,\n",
    "        spacy_de,\n",
    "        spacy_en,\n",
    "        batch_size=1,\n",
    "        is_distributed=False,\n",
    "    )\n",
    "\n",
    "    print(\"Loading Trained Model ...\")\n",
    "\n",
    "    model = make_model(len(vocab_src), len(vocab_tgt), N=6)\n",
    "    model.load_state_dict(\n",
    "        torch.load(\"multi30k_model_final.pt\", map_location=torch.device(\"cpu\"))\n",
    "    )\n",
    "\n",
    "    print(\"Checking Model Outputs:\")\n",
    "    example_data = check_outputs(\n",
    "        valid_dataloader, model, vocab_src, vocab_tgt, n_examples=n_examples\n",
    "    )\n",
    "    return model, example_data\n",
    "\n",
    "\n",
    "# execute_example(run_model_example)"
   ]
  },
  {
   "cell_type": "markdown",
   "id": "2bc9facf",
   "metadata": {
    "id": "0ZkkNTKLTsqO"
   },
   "source": [
    "## Attention Visualization\n",
    "\n",
    "> Even with a greedy decoder the translation looks pretty good. We\n",
    "> can further visualize it to see what is happening at each layer of\n",
    "> the attention"
   ]
  },
  {
   "cell_type": "code",
   "execution_count": null,
   "id": "71cf9521",
   "metadata": {
    "execution": {
     "iopub.execute_input": "2022-05-02T01:25:28.753336Z",
     "iopub.status.busy": "2022-05-02T01:25:28.752415Z",
     "iopub.status.idle": "2022-05-02T01:25:28.755185Z",
     "shell.execute_reply": "2022-05-02T01:25:28.754449Z"
    }
   },
   "outputs": [],
   "source": [
    "def mtx2df(m, max_row, max_col, row_tokens, col_tokens):\n",
    "    \"convert a dense matrix to a data frame with row and column indices\"\n",
    "    return pd.DataFrame(\n",
    "        [\n",
    "            (\n",
    "                r,\n",
    "                c,\n",
    "                float(m[r, c]),\n",
    "                \"%.3d %s\"\n",
    "                % (r, row_tokens[r] if len(row_tokens) > r else \"<blank>\"),\n",
    "                \"%.3d %s\"\n",
    "                % (c, col_tokens[c] if len(col_tokens) > c else \"<blank>\"),\n",
    "            )\n",
    "            for r in range(m.shape[0])\n",
    "            for c in range(m.shape[1])\n",
    "            if r < max_row and c < max_col\n",
    "        ],\n",
    "        # if float(m[r,c]) != 0 and r < max_row and c < max_col],\n",
    "        columns=[\"row\", \"column\", \"value\", \"row_token\", \"col_token\"],\n",
    "    )\n",
    "\n",
    "\n",
    "def attn_map(attn, layer, head, row_tokens, col_tokens, max_dim=30):\n",
    "    df = mtx2df(\n",
    "        attn[0, head].data,\n",
    "        max_dim,\n",
    "        max_dim,\n",
    "        row_tokens,\n",
    "        col_tokens,\n",
    "    )\n",
    "    return (\n",
    "        alt.Chart(data=df)\n",
    "        .mark_rect()\n",
    "        .encode(\n",
    "            x=alt.X(\"col_token\", axis=alt.Axis(title=\"\")),\n",
    "            y=alt.Y(\"row_token\", axis=alt.Axis(title=\"\")),\n",
    "            color=\"value\",\n",
    "            tooltip=[\"row\", \"column\", \"value\", \"row_token\", \"col_token\"],\n",
    "        )\n",
    "        .properties(height=400, width=400)\n",
    "        .interactive()\n",
    "    )"
   ]
  },
  {
   "cell_type": "code",
   "execution_count": null,
   "id": "491ee822",
   "metadata": {
    "execution": {
     "iopub.execute_input": "2022-05-02T01:25:28.763849Z",
     "iopub.status.busy": "2022-05-02T01:25:28.762928Z",
     "iopub.status.idle": "2022-05-02T01:25:28.766114Z",
     "shell.execute_reply": "2022-05-02T01:25:28.765381Z"
    },
    "tags": []
   },
   "outputs": [],
   "source": [
    "def get_encoder(model, layer):\n",
    "    return model.encoder.layers[layer].self_attn.attn\n",
    "\n",
    "\n",
    "def get_decoder_self(model, layer):\n",
    "    return model.decoder.layers[layer].self_attn.attn\n",
    "\n",
    "\n",
    "def get_decoder_src(model, layer):\n",
    "    return model.decoder.layers[layer].src_attn.attn\n",
    "\n",
    "\n",
    "def visualize_layer(model, layer, getter_fn, ntokens, row_tokens, col_tokens):\n",
    "    # ntokens = last_example[0].ntokens\n",
    "    attn = getter_fn(model, layer)\n",
    "    n_heads = attn.shape[1]\n",
    "    charts = [\n",
    "        attn_map(\n",
    "            attn,\n",
    "            0,\n",
    "            h,\n",
    "            row_tokens=row_tokens,\n",
    "            col_tokens=col_tokens,\n",
    "            max_dim=ntokens,\n",
    "        )\n",
    "        for h in range(n_heads)\n",
    "    ]\n",
    "    assert n_heads == 8\n",
    "    return alt.vconcat(\n",
    "        charts[0]\n",
    "        # | charts[1]\n",
    "        | charts[2]\n",
    "        # | charts[3]\n",
    "        | charts[4]\n",
    "        # | charts[5]\n",
    "        | charts[6]\n",
    "        # | charts[7]\n",
    "        # layer + 1 due to 0-indexing\n",
    "    ).properties(title=\"Layer %d\" % (layer + 1))"
   ]
  },
  {
   "cell_type": "markdown",
   "id": "9a5de750",
   "metadata": {},
   "source": [
    "## Encoder Self Attention"
   ]
  },
  {
   "cell_type": "code",
   "execution_count": null,
   "id": "ad6f1a5c",
   "metadata": {
    "execution": {
     "iopub.execute_input": "2022-05-02T01:25:28.779028Z",
     "iopub.status.busy": "2022-05-02T01:25:28.772162Z",
     "iopub.status.idle": "2022-05-02T01:25:41.856359Z",
     "shell.execute_reply": "2022-05-02T01:25:41.856614Z"
    },
    "tags": []
   },
   "outputs": [],
   "source": [
    "def viz_encoder_self():\n",
    "    model, example_data = run_model_example(n_examples=1)\n",
    "    example = example_data[\n",
    "        len(example_data) - 1\n",
    "    ]  # batch object for the final example\n",
    "\n",
    "    layer_viz = [\n",
    "        visualize_layer(\n",
    "            model, layer, get_encoder, len(example[1]), example[1], example[1]\n",
    "        )\n",
    "        for layer in range(6)\n",
    "    ]\n",
    "    return alt.hconcat(\n",
    "        layer_viz[0]\n",
    "        # & layer_viz[1]\n",
    "        & layer_viz[2]\n",
    "        # & layer_viz[3]\n",
    "        & layer_viz[4]\n",
    "        # & layer_viz[5]\n",
    "    )\n",
    "\n",
    "\n",
    "show_example(viz_encoder_self)"
   ]
  },
  {
   "cell_type": "markdown",
   "id": "f25f695d",
   "metadata": {},
   "source": [
    "## Decoder Self Attention"
   ]
  },
  {
   "cell_type": "code",
   "execution_count": null,
   "id": "e933449d",
   "metadata": {
    "execution": {
     "iopub.execute_input": "2022-05-02T01:25:41.871884Z",
     "iopub.status.busy": "2022-05-02T01:25:41.870065Z",
     "iopub.status.idle": "2022-05-02T01:25:55.723590Z",
     "shell.execute_reply": "2022-05-02T01:25:55.724083Z"
    },
    "tags": []
   },
   "outputs": [],
   "source": [
    "def viz_decoder_self():\n",
    "    model, example_data = run_model_example(n_examples=1)\n",
    "    example = example_data[len(example_data) - 1]\n",
    "\n",
    "    layer_viz = [\n",
    "        visualize_layer(\n",
    "            model,\n",
    "            layer,\n",
    "            get_decoder_self,\n",
    "            len(example[1]),\n",
    "            example[1],\n",
    "            example[1],\n",
    "        )\n",
    "        for layer in range(6)\n",
    "    ]\n",
    "    return alt.hconcat(\n",
    "        layer_viz[0]\n",
    "        & layer_viz[1]\n",
    "        & layer_viz[2]\n",
    "        & layer_viz[3]\n",
    "        & layer_viz[4]\n",
    "        & layer_viz[5]\n",
    "    )\n",
    "\n",
    "\n",
    "show_example(viz_decoder_self)"
   ]
  },
  {
   "cell_type": "markdown",
   "id": "c9c8034b",
   "metadata": {},
   "source": [
    "## Decoder Src Attention"
   ]
  },
  {
   "cell_type": "code",
   "execution_count": null,
   "id": "5492b6d9",
   "metadata": {
    "execution": {
     "iopub.execute_input": "2022-05-02T01:25:55.734026Z",
     "iopub.status.busy": "2022-05-02T01:25:55.733345Z",
     "iopub.status.idle": "2022-05-02T01:26:09.503900Z",
     "shell.execute_reply": "2022-05-02T01:26:09.504315Z"
    },
    "tags": []
   },
   "outputs": [],
   "source": [
    "def viz_decoder_src():\n",
    "    model, example_data = run_model_example(n_examples=1)\n",
    "    example = example_data[len(example_data) - 1]\n",
    "\n",
    "    layer_viz = [\n",
    "        visualize_layer(\n",
    "            model,\n",
    "            layer,\n",
    "            get_decoder_src,\n",
    "            max(len(example[1]), len(example[2])),\n",
    "            example[1],\n",
    "            example[2],\n",
    "        )\n",
    "        for layer in range(6)\n",
    "    ]\n",
    "    return alt.hconcat(\n",
    "        layer_viz[0]\n",
    "        & layer_viz[1]\n",
    "        & layer_viz[2]\n",
    "        & layer_viz[3]\n",
    "        & layer_viz[4]\n",
    "        & layer_viz[5]\n",
    "    )\n",
    "\n",
    "\n",
    "show_example(viz_decoder_src)"
   ]
  }
 ],
 "metadata": {
  "jupytext": {
   "encoding": "# -*- coding: utf-8 -*-",
   "formats": "ipynb,py:percent"
  },
  "kernelspec": {
   "display_name": "Python 3 (ipykernel)",
   "language": "python",
   "name": "python3"
  },
  "language_info": {
   "codemirror_mode": {
    "name": "ipython",
    "version": 3
   },
   "file_extension": ".py",
   "mimetype": "text/x-python",
   "name": "python",
   "nbconvert_exporter": "python",
   "pygments_lexer": "ipython3",
   "version": "3.11.5"
  }
 },
 "nbformat": 4,
 "nbformat_minor": 5
}
